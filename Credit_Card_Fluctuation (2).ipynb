{
  "nbformat": 4,
  "nbformat_minor": 0,
  "metadata": {
    "kernelspec": {
      "display_name": "Python 3",
      "language": "python",
      "name": "python3"
    },
    "language_info": {
      "codemirror_mode": {
        "name": "ipython",
        "version": 3
      },
      "file_extension": ".py",
      "mimetype": "text/x-python",
      "name": "python",
      "nbconvert_exporter": "python",
      "pygments_lexer": "ipython3",
      "version": "3.7.1"
    },
    "colab": {
      "name": "Credit_Card_Fluctuation.ipynb",
      "version": "0.3.2",
      "provenance": [],
      "collapsed_sections": []
    }
  },
  "cells": [
    {
      "cell_type": "code",
      "metadata": {
        "id": "L_wVq3MDDp8u",
        "colab_type": "code",
        "colab": {}
      },
      "source": [
        "%matplotlib inline\n",
        "import pandas as pd\n",
        "from sklearn import preprocessing\n",
        "from sklearn.model_selection import train_test_split\n",
        "import numpy as np\n",
        "import matplotlib.pyplot as plt\n",
        "import pylab as pl"
      ],
      "execution_count": 0,
      "outputs": []
    },
    {
      "cell_type": "code",
      "metadata": {
        "id": "rJwnGDZLDp8z",
        "colab_type": "code",
        "outputId": "8a53cc73-52b1-4cb3-88c1-ac893b7cce8a",
        "colab": {
          "base_uri": "https://localhost:8080/",
          "height": 321
        }
      },
      "source": [
        "df= pd.read_csv('application_train.csv')\n",
        "df.head()"
      ],
      "execution_count": 2,
      "outputs": [
        {
          "output_type": "execute_result",
          "data": {
            "text/html": [
              "<div>\n",
              "<style scoped>\n",
              "    .dataframe tbody tr th:only-of-type {\n",
              "        vertical-align: middle;\n",
              "    }\n",
              "\n",
              "    .dataframe tbody tr th {\n",
              "        vertical-align: top;\n",
              "    }\n",
              "\n",
              "    .dataframe thead th {\n",
              "        text-align: right;\n",
              "    }\n",
              "</style>\n",
              "<table border=\"1\" class=\"dataframe\">\n",
              "  <thead>\n",
              "    <tr style=\"text-align: right;\">\n",
              "      <th></th>\n",
              "      <th>SK_ID_CURR</th>\n",
              "      <th>TARGET</th>\n",
              "      <th>NAME_CONTRACT_TYPE</th>\n",
              "      <th>CODE_GENDER</th>\n",
              "      <th>FLAG_OWN_CAR</th>\n",
              "      <th>FLAG_OWN_REALTY</th>\n",
              "      <th>CNT_CHILDREN</th>\n",
              "      <th>AMT_INCOME_TOTAL</th>\n",
              "      <th>AMT_CREDIT</th>\n",
              "      <th>AMT_ANNUITY</th>\n",
              "      <th>AMT_GOODS_PRICE</th>\n",
              "      <th>NAME_TYPE_SUITE</th>\n",
              "      <th>NAME_INCOME_TYPE</th>\n",
              "      <th>NAME_EDUCATION_TYPE</th>\n",
              "      <th>NAME_FAMILY_STATUS</th>\n",
              "      <th>NAME_HOUSING_TYPE</th>\n",
              "      <th>REGION_POPULATION_RELATIVE</th>\n",
              "      <th>DAYS_BIRTH</th>\n",
              "      <th>DAYS_EMPLOYED</th>\n",
              "      <th>DAYS_REGISTRATION</th>\n",
              "      <th>DAYS_ID_PUBLISH</th>\n",
              "      <th>OWN_CAR_AGE</th>\n",
              "      <th>FLAG_MOBIL</th>\n",
              "      <th>FLAG_EMP_PHONE</th>\n",
              "      <th>FLAG_WORK_PHONE</th>\n",
              "      <th>FLAG_CONT_MOBILE</th>\n",
              "      <th>FLAG_PHONE</th>\n",
              "      <th>FLAG_EMAIL</th>\n",
              "      <th>OCCUPATION_TYPE</th>\n",
              "      <th>CNT_FAM_MEMBERS</th>\n",
              "      <th>REGION_RATING_CLIENT</th>\n",
              "      <th>REGION_RATING_CLIENT_W_CITY</th>\n",
              "      <th>WEEKDAY_APPR_PROCESS_START</th>\n",
              "      <th>HOUR_APPR_PROCESS_START</th>\n",
              "      <th>REG_REGION_NOT_LIVE_REGION</th>\n",
              "      <th>REG_REGION_NOT_WORK_REGION</th>\n",
              "      <th>LIVE_REGION_NOT_WORK_REGION</th>\n",
              "      <th>REG_CITY_NOT_LIVE_CITY</th>\n",
              "      <th>REG_CITY_NOT_WORK_CITY</th>\n",
              "      <th>LIVE_CITY_NOT_WORK_CITY</th>\n",
              "      <th>...</th>\n",
              "      <th>LIVINGAPARTMENTS_MEDI</th>\n",
              "      <th>LIVINGAREA_MEDI</th>\n",
              "      <th>NONLIVINGAPARTMENTS_MEDI</th>\n",
              "      <th>NONLIVINGAREA_MEDI</th>\n",
              "      <th>FONDKAPREMONT_MODE</th>\n",
              "      <th>HOUSETYPE_MODE</th>\n",
              "      <th>TOTALAREA_MODE</th>\n",
              "      <th>WALLSMATERIAL_MODE</th>\n",
              "      <th>EMERGENCYSTATE_MODE</th>\n",
              "      <th>OBS_30_CNT_SOCIAL_CIRCLE</th>\n",
              "      <th>DEF_30_CNT_SOCIAL_CIRCLE</th>\n",
              "      <th>OBS_60_CNT_SOCIAL_CIRCLE</th>\n",
              "      <th>DEF_60_CNT_SOCIAL_CIRCLE</th>\n",
              "      <th>DAYS_LAST_PHONE_CHANGE</th>\n",
              "      <th>FLAG_DOCUMENT_2</th>\n",
              "      <th>FLAG_DOCUMENT_3</th>\n",
              "      <th>FLAG_DOCUMENT_4</th>\n",
              "      <th>FLAG_DOCUMENT_5</th>\n",
              "      <th>FLAG_DOCUMENT_6</th>\n",
              "      <th>FLAG_DOCUMENT_7</th>\n",
              "      <th>FLAG_DOCUMENT_8</th>\n",
              "      <th>FLAG_DOCUMENT_9</th>\n",
              "      <th>FLAG_DOCUMENT_10</th>\n",
              "      <th>FLAG_DOCUMENT_11</th>\n",
              "      <th>FLAG_DOCUMENT_12</th>\n",
              "      <th>FLAG_DOCUMENT_13</th>\n",
              "      <th>FLAG_DOCUMENT_14</th>\n",
              "      <th>FLAG_DOCUMENT_15</th>\n",
              "      <th>FLAG_DOCUMENT_16</th>\n",
              "      <th>FLAG_DOCUMENT_17</th>\n",
              "      <th>FLAG_DOCUMENT_18</th>\n",
              "      <th>FLAG_DOCUMENT_19</th>\n",
              "      <th>FLAG_DOCUMENT_20</th>\n",
              "      <th>FLAG_DOCUMENT_21</th>\n",
              "      <th>AMT_REQ_CREDIT_BUREAU_HOUR</th>\n",
              "      <th>AMT_REQ_CREDIT_BUREAU_DAY</th>\n",
              "      <th>AMT_REQ_CREDIT_BUREAU_WEEK</th>\n",
              "      <th>AMT_REQ_CREDIT_BUREAU_MON</th>\n",
              "      <th>AMT_REQ_CREDIT_BUREAU_QRT</th>\n",
              "      <th>AMT_REQ_CREDIT_BUREAU_YEAR</th>\n",
              "    </tr>\n",
              "  </thead>\n",
              "  <tbody>\n",
              "    <tr>\n",
              "      <th>0</th>\n",
              "      <td>157876</td>\n",
              "      <td>0</td>\n",
              "      <td>Cash loans</td>\n",
              "      <td>F</td>\n",
              "      <td>N</td>\n",
              "      <td>Y</td>\n",
              "      <td>0</td>\n",
              "      <td>67500.0</td>\n",
              "      <td>343800.0</td>\n",
              "      <td>16155.0</td>\n",
              "      <td>225000.0</td>\n",
              "      <td>Unaccompanied</td>\n",
              "      <td>State servant</td>\n",
              "      <td>Secondary / secondary special</td>\n",
              "      <td>Married</td>\n",
              "      <td>House / apartment</td>\n",
              "      <td>0.015221</td>\n",
              "      <td>-19421</td>\n",
              "      <td>-826</td>\n",
              "      <td>-293</td>\n",
              "      <td>-2651</td>\n",
              "      <td>NaN</td>\n",
              "      <td>1</td>\n",
              "      <td>1</td>\n",
              "      <td>1</td>\n",
              "      <td>1</td>\n",
              "      <td>1</td>\n",
              "      <td>0</td>\n",
              "      <td>Medicine staff</td>\n",
              "      <td>2</td>\n",
              "      <td>2</td>\n",
              "      <td>2</td>\n",
              "      <td>TUESDAY</td>\n",
              "      <td>14</td>\n",
              "      <td>0</td>\n",
              "      <td>0</td>\n",
              "      <td>0</td>\n",
              "      <td>1</td>\n",
              "      <td>1</td>\n",
              "      <td>0</td>\n",
              "      <td>...</td>\n",
              "      <td>NaN</td>\n",
              "      <td>NaN</td>\n",
              "      <td>NaN</td>\n",
              "      <td>NaN</td>\n",
              "      <td>NaN</td>\n",
              "      <td>NaN</td>\n",
              "      <td>NaN</td>\n",
              "      <td>NaN</td>\n",
              "      <td>NaN</td>\n",
              "      <td>4.0</td>\n",
              "      <td>1.0</td>\n",
              "      <td>4.0</td>\n",
              "      <td>1.0</td>\n",
              "      <td>-180.0</td>\n",
              "      <td>0.0</td>\n",
              "      <td>1.0</td>\n",
              "      <td>0.0</td>\n",
              "      <td>0.0</td>\n",
              "      <td>0.0</td>\n",
              "      <td>0.0</td>\n",
              "      <td>0.0</td>\n",
              "      <td>0.0</td>\n",
              "      <td>0.0</td>\n",
              "      <td>0.0</td>\n",
              "      <td>0.0</td>\n",
              "      <td>0.0</td>\n",
              "      <td>0.0</td>\n",
              "      <td>0.0</td>\n",
              "      <td>0.0</td>\n",
              "      <td>0.0</td>\n",
              "      <td>0.0</td>\n",
              "      <td>0.0</td>\n",
              "      <td>0.0</td>\n",
              "      <td>0.0</td>\n",
              "      <td>0.0</td>\n",
              "      <td>0.0</td>\n",
              "      <td>0.0</td>\n",
              "      <td>0.0</td>\n",
              "      <td>0.0</td>\n",
              "      <td>1.0</td>\n",
              "    </tr>\n",
              "    <tr>\n",
              "      <th>1</th>\n",
              "      <td>157878</td>\n",
              "      <td>0</td>\n",
              "      <td>Cash loans</td>\n",
              "      <td>M</td>\n",
              "      <td>Y</td>\n",
              "      <td>N</td>\n",
              "      <td>2</td>\n",
              "      <td>247500.0</td>\n",
              "      <td>945000.0</td>\n",
              "      <td>40167.0</td>\n",
              "      <td>945000.0</td>\n",
              "      <td>Unaccompanied</td>\n",
              "      <td>Pensioner</td>\n",
              "      <td>Secondary / secondary special</td>\n",
              "      <td>Married</td>\n",
              "      <td>House / apartment</td>\n",
              "      <td>0.019101</td>\n",
              "      <td>-15322</td>\n",
              "      <td>365243</td>\n",
              "      <td>-7733</td>\n",
              "      <td>-4788</td>\n",
              "      <td>6.0</td>\n",
              "      <td>1</td>\n",
              "      <td>0</td>\n",
              "      <td>0</td>\n",
              "      <td>1</td>\n",
              "      <td>0</td>\n",
              "      <td>0</td>\n",
              "      <td>NaN</td>\n",
              "      <td>4</td>\n",
              "      <td>2</td>\n",
              "      <td>2</td>\n",
              "      <td>WEDNESDAY</td>\n",
              "      <td>16</td>\n",
              "      <td>0</td>\n",
              "      <td>0</td>\n",
              "      <td>0</td>\n",
              "      <td>0</td>\n",
              "      <td>0</td>\n",
              "      <td>0</td>\n",
              "      <td>...</td>\n",
              "      <td>NaN</td>\n",
              "      <td>NaN</td>\n",
              "      <td>NaN</td>\n",
              "      <td>NaN</td>\n",
              "      <td>NaN</td>\n",
              "      <td>NaN</td>\n",
              "      <td>NaN</td>\n",
              "      <td>NaN</td>\n",
              "      <td>NaN</td>\n",
              "      <td>2.0</td>\n",
              "      <td>2.0</td>\n",
              "      <td>2.0</td>\n",
              "      <td>2.0</td>\n",
              "      <td>-1965.0</td>\n",
              "      <td>0.0</td>\n",
              "      <td>0.0</td>\n",
              "      <td>0.0</td>\n",
              "      <td>0.0</td>\n",
              "      <td>0.0</td>\n",
              "      <td>0.0</td>\n",
              "      <td>1.0</td>\n",
              "      <td>0.0</td>\n",
              "      <td>0.0</td>\n",
              "      <td>0.0</td>\n",
              "      <td>0.0</td>\n",
              "      <td>0.0</td>\n",
              "      <td>0.0</td>\n",
              "      <td>0.0</td>\n",
              "      <td>0.0</td>\n",
              "      <td>0.0</td>\n",
              "      <td>0.0</td>\n",
              "      <td>0.0</td>\n",
              "      <td>0.0</td>\n",
              "      <td>0.0</td>\n",
              "      <td>0.0</td>\n",
              "      <td>0.0</td>\n",
              "      <td>0.0</td>\n",
              "      <td>0.0</td>\n",
              "      <td>1.0</td>\n",
              "      <td>2.0</td>\n",
              "    </tr>\n",
              "    <tr>\n",
              "      <th>2</th>\n",
              "      <td>157879</td>\n",
              "      <td>0</td>\n",
              "      <td>Revolving loans</td>\n",
              "      <td>M</td>\n",
              "      <td>N</td>\n",
              "      <td>Y</td>\n",
              "      <td>2</td>\n",
              "      <td>180000.0</td>\n",
              "      <td>540000.0</td>\n",
              "      <td>27000.0</td>\n",
              "      <td>540000.0</td>\n",
              "      <td>Unaccompanied</td>\n",
              "      <td>Working</td>\n",
              "      <td>Secondary / secondary special</td>\n",
              "      <td>Married</td>\n",
              "      <td>House / apartment</td>\n",
              "      <td>0.006207</td>\n",
              "      <td>-11120</td>\n",
              "      <td>-61</td>\n",
              "      <td>-953</td>\n",
              "      <td>-3474</td>\n",
              "      <td>NaN</td>\n",
              "      <td>1</td>\n",
              "      <td>1</td>\n",
              "      <td>0</td>\n",
              "      <td>1</td>\n",
              "      <td>1</td>\n",
              "      <td>0</td>\n",
              "      <td>Sales staff</td>\n",
              "      <td>4</td>\n",
              "      <td>2</td>\n",
              "      <td>2</td>\n",
              "      <td>SATURDAY</td>\n",
              "      <td>13</td>\n",
              "      <td>0</td>\n",
              "      <td>1</td>\n",
              "      <td>1</td>\n",
              "      <td>0</td>\n",
              "      <td>1</td>\n",
              "      <td>1</td>\n",
              "      <td>...</td>\n",
              "      <td>NaN</td>\n",
              "      <td>0.1123</td>\n",
              "      <td>NaN</td>\n",
              "      <td>0.031</td>\n",
              "      <td>NaN</td>\n",
              "      <td>NaN</td>\n",
              "      <td>0.0531</td>\n",
              "      <td>Stone, brick</td>\n",
              "      <td>No</td>\n",
              "      <td>0.0</td>\n",
              "      <td>0.0</td>\n",
              "      <td>0.0</td>\n",
              "      <td>0.0</td>\n",
              "      <td>-1585.0</td>\n",
              "      <td>0.0</td>\n",
              "      <td>0.0</td>\n",
              "      <td>0.0</td>\n",
              "      <td>0.0</td>\n",
              "      <td>0.0</td>\n",
              "      <td>0.0</td>\n",
              "      <td>0.0</td>\n",
              "      <td>0.0</td>\n",
              "      <td>0.0</td>\n",
              "      <td>0.0</td>\n",
              "      <td>0.0</td>\n",
              "      <td>0.0</td>\n",
              "      <td>0.0</td>\n",
              "      <td>0.0</td>\n",
              "      <td>0.0</td>\n",
              "      <td>0.0</td>\n",
              "      <td>0.0</td>\n",
              "      <td>0.0</td>\n",
              "      <td>0.0</td>\n",
              "      <td>0.0</td>\n",
              "      <td>0.0</td>\n",
              "      <td>0.0</td>\n",
              "      <td>0.0</td>\n",
              "      <td>0.0</td>\n",
              "      <td>0.0</td>\n",
              "      <td>3.0</td>\n",
              "    </tr>\n",
              "    <tr>\n",
              "      <th>3</th>\n",
              "      <td>157880</td>\n",
              "      <td>0</td>\n",
              "      <td>Cash loans</td>\n",
              "      <td>F</td>\n",
              "      <td>N</td>\n",
              "      <td>Y</td>\n",
              "      <td>0</td>\n",
              "      <td>112500.0</td>\n",
              "      <td>295168.5</td>\n",
              "      <td>16011.0</td>\n",
              "      <td>238500.0</td>\n",
              "      <td>Unaccompanied</td>\n",
              "      <td>Working</td>\n",
              "      <td>Higher education</td>\n",
              "      <td>Married</td>\n",
              "      <td>House / apartment</td>\n",
              "      <td>0.030755</td>\n",
              "      <td>-11824</td>\n",
              "      <td>-4467</td>\n",
              "      <td>-1193</td>\n",
              "      <td>-2370</td>\n",
              "      <td>NaN</td>\n",
              "      <td>1</td>\n",
              "      <td>1</td>\n",
              "      <td>1</td>\n",
              "      <td>1</td>\n",
              "      <td>0</td>\n",
              "      <td>0</td>\n",
              "      <td>Laborers</td>\n",
              "      <td>2</td>\n",
              "      <td>2</td>\n",
              "      <td>2</td>\n",
              "      <td>SUNDAY</td>\n",
              "      <td>14</td>\n",
              "      <td>0</td>\n",
              "      <td>0</td>\n",
              "      <td>0</td>\n",
              "      <td>0</td>\n",
              "      <td>0</td>\n",
              "      <td>0</td>\n",
              "      <td>...</td>\n",
              "      <td>0.0128</td>\n",
              "      <td>0.0170</td>\n",
              "      <td>0.0</td>\n",
              "      <td>0.020</td>\n",
              "      <td>org spec account</td>\n",
              "      <td>block of flats</td>\n",
              "      <td>0.0200</td>\n",
              "      <td>Mixed</td>\n",
              "      <td>No</td>\n",
              "      <td>0.0</td>\n",
              "      <td>0.0</td>\n",
              "      <td>0.0</td>\n",
              "      <td>0.0</td>\n",
              "      <td>-1708.0</td>\n",
              "      <td>0.0</td>\n",
              "      <td>1.0</td>\n",
              "      <td>0.0</td>\n",
              "      <td>0.0</td>\n",
              "      <td>0.0</td>\n",
              "      <td>0.0</td>\n",
              "      <td>0.0</td>\n",
              "      <td>0.0</td>\n",
              "      <td>0.0</td>\n",
              "      <td>0.0</td>\n",
              "      <td>0.0</td>\n",
              "      <td>0.0</td>\n",
              "      <td>0.0</td>\n",
              "      <td>0.0</td>\n",
              "      <td>0.0</td>\n",
              "      <td>0.0</td>\n",
              "      <td>0.0</td>\n",
              "      <td>0.0</td>\n",
              "      <td>0.0</td>\n",
              "      <td>0.0</td>\n",
              "      <td>0.0</td>\n",
              "      <td>0.0</td>\n",
              "      <td>0.0</td>\n",
              "      <td>0.0</td>\n",
              "      <td>1.0</td>\n",
              "      <td>1.0</td>\n",
              "    </tr>\n",
              "    <tr>\n",
              "      <th>4</th>\n",
              "      <td>157881</td>\n",
              "      <td>0</td>\n",
              "      <td>Cash loans</td>\n",
              "      <td>F</td>\n",
              "      <td>N</td>\n",
              "      <td>Y</td>\n",
              "      <td>0</td>\n",
              "      <td>63000.0</td>\n",
              "      <td>298512.0</td>\n",
              "      <td>17266.5</td>\n",
              "      <td>270000.0</td>\n",
              "      <td>Unaccompanied</td>\n",
              "      <td>Pensioner</td>\n",
              "      <td>Secondary / secondary special</td>\n",
              "      <td>Civil marriage</td>\n",
              "      <td>Municipal apartment</td>\n",
              "      <td>0.018029</td>\n",
              "      <td>-22102</td>\n",
              "      <td>365243</td>\n",
              "      <td>-2536</td>\n",
              "      <td>-4052</td>\n",
              "      <td>NaN</td>\n",
              "      <td>1</td>\n",
              "      <td>0</td>\n",
              "      <td>0</td>\n",
              "      <td>1</td>\n",
              "      <td>0</td>\n",
              "      <td>0</td>\n",
              "      <td>NaN</td>\n",
              "      <td>2</td>\n",
              "      <td>3</td>\n",
              "      <td>3</td>\n",
              "      <td>THURSDAY</td>\n",
              "      <td>4</td>\n",
              "      <td>0</td>\n",
              "      <td>0</td>\n",
              "      <td>0</td>\n",
              "      <td>0</td>\n",
              "      <td>0</td>\n",
              "      <td>0</td>\n",
              "      <td>...</td>\n",
              "      <td>NaN</td>\n",
              "      <td>NaN</td>\n",
              "      <td>NaN</td>\n",
              "      <td>NaN</td>\n",
              "      <td>NaN</td>\n",
              "      <td>NaN</td>\n",
              "      <td>NaN</td>\n",
              "      <td>NaN</td>\n",
              "      <td>NaN</td>\n",
              "      <td>1.0</td>\n",
              "      <td>0.0</td>\n",
              "      <td>1.0</td>\n",
              "      <td>0.0</td>\n",
              "      <td>-1.0</td>\n",
              "      <td>0.0</td>\n",
              "      <td>1.0</td>\n",
              "      <td>0.0</td>\n",
              "      <td>0.0</td>\n",
              "      <td>0.0</td>\n",
              "      <td>0.0</td>\n",
              "      <td>0.0</td>\n",
              "      <td>0.0</td>\n",
              "      <td>0.0</td>\n",
              "      <td>0.0</td>\n",
              "      <td>0.0</td>\n",
              "      <td>0.0</td>\n",
              "      <td>0.0</td>\n",
              "      <td>0.0</td>\n",
              "      <td>0.0</td>\n",
              "      <td>0.0</td>\n",
              "      <td>0.0</td>\n",
              "      <td>0.0</td>\n",
              "      <td>0.0</td>\n",
              "      <td>0.0</td>\n",
              "      <td>NaN</td>\n",
              "      <td>NaN</td>\n",
              "      <td>NaN</td>\n",
              "      <td>NaN</td>\n",
              "      <td>NaN</td>\n",
              "      <td>NaN</td>\n",
              "    </tr>\n",
              "  </tbody>\n",
              "</table>\n",
              "<p>5 rows × 122 columns</p>\n",
              "</div>"
            ],
            "text/plain": [
              "   SK_ID_CURR  TARGET  ... AMT_REQ_CREDIT_BUREAU_QRT AMT_REQ_CREDIT_BUREAU_YEAR\n",
              "0      157876       0  ...                       0.0                        1.0\n",
              "1      157878       0  ...                       1.0                        2.0\n",
              "2      157879       0  ...                       0.0                        3.0\n",
              "3      157880       0  ...                       1.0                        1.0\n",
              "4      157881       0  ...                       NaN                        NaN\n",
              "\n",
              "[5 rows x 122 columns]"
            ]
          },
          "metadata": {
            "tags": []
          },
          "execution_count": 2
        }
      ]
    },
    {
      "cell_type": "code",
      "metadata": {
        "id": "ZOWwKY_hDp83",
        "colab_type": "code",
        "outputId": "001adcd0-b529-4cb9-c7e5-ea68f7644b91",
        "colab": {
          "base_uri": "https://localhost:8080/",
          "height": 292
        }
      },
      "source": [
        "features=[\"DAYS_BIRTH\",\"AMT_CREDIT\",\"YEARS_BUILD_AVG\",\"AMT_ANNUITY\",\"EXT_SOURCE_2\",\"EXT_SOURCE_3\",\"LANDAREA_AVG\",\"APARTMENTS_AVG\",\"BASEMENTAREA_AVG\",\"REGION_RATING_CLIENT_W_CITY\",\"REGION_RATING_CLIENT\",\"EXT_SOURCE_1\",\"FLAG_WORK_PHONE\",\"FLAG_OWN_CAR\",\"FLAG_OWN_REALTY\",\"DAYS_EMPLOYED\",\"NAME_EDUCATION_TYPE\",\"CODE_GENDER\",\"REG_REGION_NOT_LIVE_REGION\",\"REG_REGION_NOT_WORK_REGION\",\"LIVE_CITY_NOT_WORK_CITY\",\"LIVE_REGION_NOT_WORK_REGION\",\"REG_CITY_NOT_LIVE_CITY\",\"REG_CITY_NOT_WORK_CITY\",\"NAME_FAMILY_STATUS\",\"NAME_INCOME_TYPE\",\"CNT_CHILDREN\",\"ELEVATORS_AVG\",\"ENTRANCES_AVG\",\"REGION_POPULATION_RELATIVE\",\"AMT_INCOME_TOTAL\",\"AMT_GOODS_PRICE\",\"CNT_FAM_MEMBERS\",\"FLAG_CONT_MOBILE\",\"NAME_TYPE_SUITE\",\"NAME_HOUSING_TYPE\",\"OCCUPATION_TYPE\",\"NAME_CONTRACT_TYPE\",\"OWN_CAR_AGE\"]\n",
        "df1=df[features]\n",
        "y=df[\"TARGET\"]\n",
        "df1.head()"
      ],
      "execution_count": 3,
      "outputs": [
        {
          "output_type": "execute_result",
          "data": {
            "text/html": [
              "<div>\n",
              "<style scoped>\n",
              "    .dataframe tbody tr th:only-of-type {\n",
              "        vertical-align: middle;\n",
              "    }\n",
              "\n",
              "    .dataframe tbody tr th {\n",
              "        vertical-align: top;\n",
              "    }\n",
              "\n",
              "    .dataframe thead th {\n",
              "        text-align: right;\n",
              "    }\n",
              "</style>\n",
              "<table border=\"1\" class=\"dataframe\">\n",
              "  <thead>\n",
              "    <tr style=\"text-align: right;\">\n",
              "      <th></th>\n",
              "      <th>DAYS_BIRTH</th>\n",
              "      <th>AMT_CREDIT</th>\n",
              "      <th>YEARS_BUILD_AVG</th>\n",
              "      <th>AMT_ANNUITY</th>\n",
              "      <th>EXT_SOURCE_2</th>\n",
              "      <th>EXT_SOURCE_3</th>\n",
              "      <th>LANDAREA_AVG</th>\n",
              "      <th>APARTMENTS_AVG</th>\n",
              "      <th>BASEMENTAREA_AVG</th>\n",
              "      <th>REGION_RATING_CLIENT_W_CITY</th>\n",
              "      <th>REGION_RATING_CLIENT</th>\n",
              "      <th>EXT_SOURCE_1</th>\n",
              "      <th>FLAG_WORK_PHONE</th>\n",
              "      <th>FLAG_OWN_CAR</th>\n",
              "      <th>FLAG_OWN_REALTY</th>\n",
              "      <th>DAYS_EMPLOYED</th>\n",
              "      <th>NAME_EDUCATION_TYPE</th>\n",
              "      <th>CODE_GENDER</th>\n",
              "      <th>REG_REGION_NOT_LIVE_REGION</th>\n",
              "      <th>REG_REGION_NOT_WORK_REGION</th>\n",
              "      <th>LIVE_CITY_NOT_WORK_CITY</th>\n",
              "      <th>LIVE_REGION_NOT_WORK_REGION</th>\n",
              "      <th>REG_CITY_NOT_LIVE_CITY</th>\n",
              "      <th>REG_CITY_NOT_WORK_CITY</th>\n",
              "      <th>NAME_FAMILY_STATUS</th>\n",
              "      <th>NAME_INCOME_TYPE</th>\n",
              "      <th>CNT_CHILDREN</th>\n",
              "      <th>ELEVATORS_AVG</th>\n",
              "      <th>ENTRANCES_AVG</th>\n",
              "      <th>REGION_POPULATION_RELATIVE</th>\n",
              "      <th>AMT_INCOME_TOTAL</th>\n",
              "      <th>AMT_GOODS_PRICE</th>\n",
              "      <th>CNT_FAM_MEMBERS</th>\n",
              "      <th>FLAG_CONT_MOBILE</th>\n",
              "      <th>NAME_TYPE_SUITE</th>\n",
              "      <th>NAME_HOUSING_TYPE</th>\n",
              "      <th>OCCUPATION_TYPE</th>\n",
              "      <th>NAME_CONTRACT_TYPE</th>\n",
              "      <th>OWN_CAR_AGE</th>\n",
              "    </tr>\n",
              "  </thead>\n",
              "  <tbody>\n",
              "    <tr>\n",
              "      <th>0</th>\n",
              "      <td>-19421</td>\n",
              "      <td>343800.0</td>\n",
              "      <td>NaN</td>\n",
              "      <td>16155.0</td>\n",
              "      <td>0.583251</td>\n",
              "      <td>NaN</td>\n",
              "      <td>NaN</td>\n",
              "      <td>NaN</td>\n",
              "      <td>NaN</td>\n",
              "      <td>2</td>\n",
              "      <td>2</td>\n",
              "      <td>NaN</td>\n",
              "      <td>1</td>\n",
              "      <td>N</td>\n",
              "      <td>Y</td>\n",
              "      <td>-826</td>\n",
              "      <td>Secondary / secondary special</td>\n",
              "      <td>F</td>\n",
              "      <td>0</td>\n",
              "      <td>0</td>\n",
              "      <td>0</td>\n",
              "      <td>0</td>\n",
              "      <td>1</td>\n",
              "      <td>1</td>\n",
              "      <td>Married</td>\n",
              "      <td>State servant</td>\n",
              "      <td>0</td>\n",
              "      <td>NaN</td>\n",
              "      <td>NaN</td>\n",
              "      <td>0.015221</td>\n",
              "      <td>67500.0</td>\n",
              "      <td>225000.0</td>\n",
              "      <td>2</td>\n",
              "      <td>1</td>\n",
              "      <td>Unaccompanied</td>\n",
              "      <td>House / apartment</td>\n",
              "      <td>Medicine staff</td>\n",
              "      <td>Cash loans</td>\n",
              "      <td>NaN</td>\n",
              "    </tr>\n",
              "    <tr>\n",
              "      <th>1</th>\n",
              "      <td>-15322</td>\n",
              "      <td>945000.0</td>\n",
              "      <td>NaN</td>\n",
              "      <td>40167.0</td>\n",
              "      <td>0.623227</td>\n",
              "      <td>0.622922</td>\n",
              "      <td>NaN</td>\n",
              "      <td>NaN</td>\n",
              "      <td>NaN</td>\n",
              "      <td>2</td>\n",
              "      <td>2</td>\n",
              "      <td>0.342195</td>\n",
              "      <td>0</td>\n",
              "      <td>Y</td>\n",
              "      <td>N</td>\n",
              "      <td>365243</td>\n",
              "      <td>Secondary / secondary special</td>\n",
              "      <td>M</td>\n",
              "      <td>0</td>\n",
              "      <td>0</td>\n",
              "      <td>0</td>\n",
              "      <td>0</td>\n",
              "      <td>0</td>\n",
              "      <td>0</td>\n",
              "      <td>Married</td>\n",
              "      <td>Pensioner</td>\n",
              "      <td>2</td>\n",
              "      <td>NaN</td>\n",
              "      <td>NaN</td>\n",
              "      <td>0.019101</td>\n",
              "      <td>247500.0</td>\n",
              "      <td>945000.0</td>\n",
              "      <td>4</td>\n",
              "      <td>1</td>\n",
              "      <td>Unaccompanied</td>\n",
              "      <td>House / apartment</td>\n",
              "      <td>NaN</td>\n",
              "      <td>Cash loans</td>\n",
              "      <td>6.0</td>\n",
              "    </tr>\n",
              "    <tr>\n",
              "      <th>2</th>\n",
              "      <td>-11120</td>\n",
              "      <td>540000.0</td>\n",
              "      <td>NaN</td>\n",
              "      <td>27000.0</td>\n",
              "      <td>0.430050</td>\n",
              "      <td>0.656158</td>\n",
              "      <td>0.0577</td>\n",
              "      <td>0.0976</td>\n",
              "      <td>NaN</td>\n",
              "      <td>2</td>\n",
              "      <td>2</td>\n",
              "      <td>0.076905</td>\n",
              "      <td>0</td>\n",
              "      <td>N</td>\n",
              "      <td>Y</td>\n",
              "      <td>-61</td>\n",
              "      <td>Secondary / secondary special</td>\n",
              "      <td>M</td>\n",
              "      <td>0</td>\n",
              "      <td>1</td>\n",
              "      <td>1</td>\n",
              "      <td>1</td>\n",
              "      <td>0</td>\n",
              "      <td>1</td>\n",
              "      <td>Married</td>\n",
              "      <td>Working</td>\n",
              "      <td>2</td>\n",
              "      <td>0.1064</td>\n",
              "      <td>0.0917</td>\n",
              "      <td>0.006207</td>\n",
              "      <td>180000.0</td>\n",
              "      <td>540000.0</td>\n",
              "      <td>4</td>\n",
              "      <td>1</td>\n",
              "      <td>Unaccompanied</td>\n",
              "      <td>House / apartment</td>\n",
              "      <td>Sales staff</td>\n",
              "      <td>Revolving loans</td>\n",
              "      <td>NaN</td>\n",
              "    </tr>\n",
              "    <tr>\n",
              "      <th>3</th>\n",
              "      <td>-11824</td>\n",
              "      <td>295168.5</td>\n",
              "      <td>0.5852</td>\n",
              "      <td>16011.0</td>\n",
              "      <td>0.447755</td>\n",
              "      <td>0.524496</td>\n",
              "      <td>0.0285</td>\n",
              "      <td>0.0155</td>\n",
              "      <td>0.0111</td>\n",
              "      <td>2</td>\n",
              "      <td>2</td>\n",
              "      <td>0.391924</td>\n",
              "      <td>1</td>\n",
              "      <td>N</td>\n",
              "      <td>Y</td>\n",
              "      <td>-4467</td>\n",
              "      <td>Higher education</td>\n",
              "      <td>F</td>\n",
              "      <td>0</td>\n",
              "      <td>0</td>\n",
              "      <td>0</td>\n",
              "      <td>0</td>\n",
              "      <td>0</td>\n",
              "      <td>0</td>\n",
              "      <td>Married</td>\n",
              "      <td>Working</td>\n",
              "      <td>0</td>\n",
              "      <td>NaN</td>\n",
              "      <td>0.0862</td>\n",
              "      <td>0.030755</td>\n",
              "      <td>112500.0</td>\n",
              "      <td>238500.0</td>\n",
              "      <td>2</td>\n",
              "      <td>1</td>\n",
              "      <td>Unaccompanied</td>\n",
              "      <td>House / apartment</td>\n",
              "      <td>Laborers</td>\n",
              "      <td>Cash loans</td>\n",
              "      <td>NaN</td>\n",
              "    </tr>\n",
              "    <tr>\n",
              "      <th>4</th>\n",
              "      <td>-22102</td>\n",
              "      <td>298512.0</td>\n",
              "      <td>NaN</td>\n",
              "      <td>17266.5</td>\n",
              "      <td>0.235905</td>\n",
              "      <td>NaN</td>\n",
              "      <td>NaN</td>\n",
              "      <td>NaN</td>\n",
              "      <td>NaN</td>\n",
              "      <td>3</td>\n",
              "      <td>3</td>\n",
              "      <td>NaN</td>\n",
              "      <td>0</td>\n",
              "      <td>N</td>\n",
              "      <td>Y</td>\n",
              "      <td>365243</td>\n",
              "      <td>Secondary / secondary special</td>\n",
              "      <td>F</td>\n",
              "      <td>0</td>\n",
              "      <td>0</td>\n",
              "      <td>0</td>\n",
              "      <td>0</td>\n",
              "      <td>0</td>\n",
              "      <td>0</td>\n",
              "      <td>Civil marriage</td>\n",
              "      <td>Pensioner</td>\n",
              "      <td>0</td>\n",
              "      <td>NaN</td>\n",
              "      <td>NaN</td>\n",
              "      <td>0.018029</td>\n",
              "      <td>63000.0</td>\n",
              "      <td>270000.0</td>\n",
              "      <td>2</td>\n",
              "      <td>1</td>\n",
              "      <td>Unaccompanied</td>\n",
              "      <td>Municipal apartment</td>\n",
              "      <td>NaN</td>\n",
              "      <td>Cash loans</td>\n",
              "      <td>NaN</td>\n",
              "    </tr>\n",
              "  </tbody>\n",
              "</table>\n",
              "</div>"
            ],
            "text/plain": [
              "   DAYS_BIRTH  AMT_CREDIT  ...  NAME_CONTRACT_TYPE  OWN_CAR_AGE\n",
              "0      -19421    343800.0  ...          Cash loans          NaN\n",
              "1      -15322    945000.0  ...          Cash loans          6.0\n",
              "2      -11120    540000.0  ...     Revolving loans          NaN\n",
              "3      -11824    295168.5  ...          Cash loans          NaN\n",
              "4      -22102    298512.0  ...          Cash loans          NaN\n",
              "\n",
              "[5 rows x 39 columns]"
            ]
          },
          "metadata": {
            "tags": []
          },
          "execution_count": 3
        }
      ]
    },
    {
      "cell_type": "code",
      "metadata": {
        "id": "3OmEU3AODp86",
        "colab_type": "code",
        "outputId": "0f11faea-d1bb-436f-95f1-c9caac712f02",
        "colab": {
          "base_uri": "https://localhost:8080/",
          "height": 272
        }
      },
      "source": [
        "cd=df1.isnull().sum()\n",
        "cd=cd[cd>0]\n",
        "cd.sort_values(ascending=True)"
      ],
      "execution_count": 4,
      "outputs": [
        {
          "output_type": "execute_result",
          "data": {
            "text/plain": [
              "AMT_ANNUITY             6\n",
              "AMT_GOODS_PRICE        45\n",
              "EXT_SOURCE_2           98\n",
              "NAME_TYPE_SUITE       233\n",
              "EXT_SOURCE_3        10715\n",
              "OCCUPATION_TYPE     16869\n",
              "ENTRANCES_AVG       27206\n",
              "APARTMENTS_AVG      27431\n",
              "ELEVATORS_AVG       28874\n",
              "EXT_SOURCE_1        30467\n",
              "BASEMENTAREA_AVG    31615\n",
              "LANDAREA_AVG        32014\n",
              "OWN_CAR_AGE         35840\n",
              "YEARS_BUILD_AVG     35882\n",
              "dtype: int64"
            ]
          },
          "metadata": {
            "tags": []
          },
          "execution_count": 4
        }
      ]
    },
    {
      "cell_type": "code",
      "metadata": {
        "id": "Bee0ei2IDp8-",
        "colab_type": "code",
        "outputId": "21475b1d-2bea-45e6-c519-a22acce79d46",
        "colab": {
          "base_uri": "https://localhost:8080/",
          "height": 139
        }
      },
      "source": [
        "df1.fillna(0.5,inplace=True)\n",
        "cd=df1.isnull().sum()\n",
        "cd=cd[cd>0]\n",
        "cd.sort_values(ascending=True)"
      ],
      "execution_count": 5,
      "outputs": [
        {
          "output_type": "stream",
          "text": [
            "/usr/local/lib/python3.6/dist-packages/pandas/core/frame.py:4034: SettingWithCopyWarning: \n",
            "A value is trying to be set on a copy of a slice from a DataFrame\n",
            "\n",
            "See the caveats in the documentation: http://pandas.pydata.org/pandas-docs/stable/indexing.html#indexing-view-versus-copy\n",
            "  downcast=downcast, **kwargs)\n"
          ],
          "name": "stderr"
        },
        {
          "output_type": "execute_result",
          "data": {
            "text/plain": [
              "Series([], dtype: int64)"
            ]
          },
          "metadata": {
            "tags": []
          },
          "execution_count": 5
        }
      ]
    },
    {
      "cell_type": "code",
      "metadata": {
        "id": "u_01_TIRDp9B",
        "colab_type": "code",
        "outputId": "7976e3fd-0a71-473b-fbfc-7f73df1385a6",
        "colab": {
          "base_uri": "https://localhost:8080/",
          "height": 139
        }
      },
      "source": [
        "d1={'Low-skill Laborers':1,'Laborers':2,'Drivers':4,'Cleaning staff':3,'Cooking staff':5,'Security staff':6,'Waiters/barmen staff':7,'Medicine staff':8,'Realty agents':9,'Sales staff':10,'Private service staff':11,'IT staff':12,'Accountants':13,'Core staff':14,'Managers':15,'HR staff':16,'High skill tech staff':17,'Secretaries':18,0:0}\n",
        "df1['OCCUPATION_TYPE']=df1['OCCUPATION_TYPE'].map(d1)"
      ],
      "execution_count": 6,
      "outputs": [
        {
          "output_type": "stream",
          "text": [
            "/usr/local/lib/python3.6/dist-packages/ipykernel_launcher.py:2: SettingWithCopyWarning: \n",
            "A value is trying to be set on a copy of a slice from a DataFrame.\n",
            "Try using .loc[row_indexer,col_indexer] = value instead\n",
            "\n",
            "See the caveats in the documentation: http://pandas.pydata.org/pandas-docs/stable/indexing.html#indexing-view-versus-copy\n",
            "  \n"
          ],
          "name": "stderr"
        }
      ]
    },
    {
      "cell_type": "code",
      "metadata": {
        "id": "RZbhncodDp9D",
        "colab_type": "code",
        "outputId": "6f51d971-9314-4305-8c64-c9f487f29e07",
        "colab": {
          "base_uri": "https://localhost:8080/",
          "height": 139
        }
      },
      "source": [
        "d2={'N':0,'Y':100}\n",
        "df1['FLAG_OWN_CAR']=df1['FLAG_OWN_CAR'].map(d2)"
      ],
      "execution_count": 7,
      "outputs": [
        {
          "output_type": "stream",
          "text": [
            "/usr/local/lib/python3.6/dist-packages/ipykernel_launcher.py:2: SettingWithCopyWarning: \n",
            "A value is trying to be set on a copy of a slice from a DataFrame.\n",
            "Try using .loc[row_indexer,col_indexer] = value instead\n",
            "\n",
            "See the caveats in the documentation: http://pandas.pydata.org/pandas-docs/stable/indexing.html#indexing-view-versus-copy\n",
            "  \n"
          ],
          "name": "stderr"
        }
      ]
    },
    {
      "cell_type": "code",
      "metadata": {
        "id": "FDNN4lLpDp9I",
        "colab_type": "code",
        "outputId": "510dd76f-b6a8-4d59-9583-1e1e0faa7433",
        "colab": {
          "base_uri": "https://localhost:8080/",
          "height": 139
        }
      },
      "source": [
        "d1={'Lower secondary':1,'Secondary / secondary special':2,'Higher education':4,'Incomplete higher':3,'Academic degree':5}\n",
        "df1['NAME_EDUCATION_TYPE']=df1['NAME_EDUCATION_TYPE'].map(d1)"
      ],
      "execution_count": 8,
      "outputs": [
        {
          "output_type": "stream",
          "text": [
            "/usr/local/lib/python3.6/dist-packages/ipykernel_launcher.py:2: SettingWithCopyWarning: \n",
            "A value is trying to be set on a copy of a slice from a DataFrame.\n",
            "Try using .loc[row_indexer,col_indexer] = value instead\n",
            "\n",
            "See the caveats in the documentation: http://pandas.pydata.org/pandas-docs/stable/indexing.html#indexing-view-versus-copy\n",
            "  \n"
          ],
          "name": "stderr"
        }
      ]
    },
    {
      "cell_type": "code",
      "metadata": {
        "id": "_FxrsfLsDp9K",
        "colab_type": "code",
        "outputId": "ea12704b-5d85-4ad3-ce92-0ccfbbcf3692",
        "colab": {
          "base_uri": "https://localhost:8080/",
          "height": 139
        }
      },
      "source": [
        "d2={'N':0,'Y':200}\n",
        "df1['FLAG_OWN_REALTY']=df1['FLAG_OWN_REALTY'].map(d2)"
      ],
      "execution_count": 9,
      "outputs": [
        {
          "output_type": "stream",
          "text": [
            "/usr/local/lib/python3.6/dist-packages/ipykernel_launcher.py:2: SettingWithCopyWarning: \n",
            "A value is trying to be set on a copy of a slice from a DataFrame.\n",
            "Try using .loc[row_indexer,col_indexer] = value instead\n",
            "\n",
            "See the caveats in the documentation: http://pandas.pydata.org/pandas-docs/stable/indexing.html#indexing-view-versus-copy\n",
            "  \n"
          ],
          "name": "stderr"
        }
      ]
    },
    {
      "cell_type": "code",
      "metadata": {
        "id": "P5skQ5aMDp9S",
        "colab_type": "code",
        "outputId": "5d1282cc-dad1-4236-9ca4-458c2225ed48",
        "colab": {
          "base_uri": "https://localhost:8080/",
          "height": 139
        }
      },
      "source": [
        "d4={'F':1.5,'M':1.2,'XNA':0.7}\n",
        "df1['CODE_GENDER']=df1['CODE_GENDER'].map(d4)"
      ],
      "execution_count": 10,
      "outputs": [
        {
          "output_type": "stream",
          "text": [
            "/usr/local/lib/python3.6/dist-packages/ipykernel_launcher.py:2: SettingWithCopyWarning: \n",
            "A value is trying to be set on a copy of a slice from a DataFrame.\n",
            "Try using .loc[row_indexer,col_indexer] = value instead\n",
            "\n",
            "See the caveats in the documentation: http://pandas.pydata.org/pandas-docs/stable/indexing.html#indexing-view-versus-copy\n",
            "  \n"
          ],
          "name": "stderr"
        }
      ]
    },
    {
      "cell_type": "code",
      "metadata": {
        "id": "d2Is0F9YDp9X",
        "colab_type": "code",
        "outputId": "0cf8453b-35a9-464f-f9cc-7e70ec7ce55a",
        "colab": {
          "base_uri": "https://localhost:8080/",
          "height": 139
        }
      },
      "source": [
        "d10={'Unknown':0,'Widow':2,'Separated':1,'Civil marriage':7,'Single / not married':5,'Married':6}\n",
        "df1['NAME_FAMILY_STATUS']=df1['NAME_FAMILY_STATUS'].map(d10)"
      ],
      "execution_count": 11,
      "outputs": [
        {
          "output_type": "stream",
          "text": [
            "/usr/local/lib/python3.6/dist-packages/ipykernel_launcher.py:2: SettingWithCopyWarning: \n",
            "A value is trying to be set on a copy of a slice from a DataFrame.\n",
            "Try using .loc[row_indexer,col_indexer] = value instead\n",
            "\n",
            "See the caveats in the documentation: http://pandas.pydata.org/pandas-docs/stable/indexing.html#indexing-view-versus-copy\n",
            "  \n"
          ],
          "name": "stderr"
        }
      ]
    },
    {
      "cell_type": "code",
      "metadata": {
        "id": "lQiu_d9BDp9a",
        "colab_type": "code",
        "outputId": "81a45bfc-93ff-4312-e382-79cef9321b9d",
        "colab": {
          "base_uri": "https://localhost:8080/",
          "height": 139
        }
      },
      "source": [
        "d5={'Unemployed':0,'Student':1.5,'Pensioner':2,'Maternity leave':4,'Businessman':5,'Working':4.5,'Commercial associate':3.5,'State servant':10}\n",
        "df1['NAME_INCOME_TYPE']=df1['NAME_INCOME_TYPE'].map(d5)"
      ],
      "execution_count": 12,
      "outputs": [
        {
          "output_type": "stream",
          "text": [
            "/usr/local/lib/python3.6/dist-packages/ipykernel_launcher.py:2: SettingWithCopyWarning: \n",
            "A value is trying to be set on a copy of a slice from a DataFrame.\n",
            "Try using .loc[row_indexer,col_indexer] = value instead\n",
            "\n",
            "See the caveats in the documentation: http://pandas.pydata.org/pandas-docs/stable/indexing.html#indexing-view-versus-copy\n",
            "  \n"
          ],
          "name": "stderr"
        }
      ]
    },
    {
      "cell_type": "code",
      "metadata": {
        "id": "OO_ZCwbTDp9e",
        "colab_type": "code",
        "outputId": "7ae70aed-54b1-48a9-8e2c-339bd9cd03d3",
        "colab": {
          "base_uri": "https://localhost:8080/",
          "height": 139
        }
      },
      "source": [
        "d5={'Rented apartment':1,'With parents':9,'House / apartment':7,'Co-op apartment':5,'Office apartment':11,'Municipal apartment':13}\n",
        "df1['NAME_HOUSING_TYPE']=df1['NAME_HOUSING_TYPE'].map(d5)"
      ],
      "execution_count": 13,
      "outputs": [
        {
          "output_type": "stream",
          "text": [
            "/usr/local/lib/python3.6/dist-packages/ipykernel_launcher.py:2: SettingWithCopyWarning: \n",
            "A value is trying to be set on a copy of a slice from a DataFrame.\n",
            "Try using .loc[row_indexer,col_indexer] = value instead\n",
            "\n",
            "See the caveats in the documentation: http://pandas.pydata.org/pandas-docs/stable/indexing.html#indexing-view-versus-copy\n",
            "  \n"
          ],
          "name": "stderr"
        }
      ]
    },
    {
      "cell_type": "code",
      "metadata": {
        "id": "3jUNGGBpDp9g",
        "colab_type": "code",
        "outputId": "f607f316-ab86-481b-9ed2-c9c4a5c73597",
        "colab": {
          "base_uri": "https://localhost:8080/",
          "height": 139
        }
      },
      "source": [
        "d6={'Unaccompanied':3.5,'Family':8,'Spouse, partner':6,'Children':10,'Other_B':5,'Other_A':4.5,'Group of people':20,0:0}\n",
        "df1['NAME_TYPE_SUITE']=df1['NAME_TYPE_SUITE'].map(d6)"
      ],
      "execution_count": 14,
      "outputs": [
        {
          "output_type": "stream",
          "text": [
            "/usr/local/lib/python3.6/dist-packages/ipykernel_launcher.py:2: SettingWithCopyWarning: \n",
            "A value is trying to be set on a copy of a slice from a DataFrame.\n",
            "Try using .loc[row_indexer,col_indexer] = value instead\n",
            "\n",
            "See the caveats in the documentation: http://pandas.pydata.org/pandas-docs/stable/indexing.html#indexing-view-versus-copy\n",
            "  \n"
          ],
          "name": "stderr"
        }
      ]
    },
    {
      "cell_type": "code",
      "metadata": {
        "id": "tBxvl0gKDp9i",
        "colab_type": "code",
        "outputId": "05525156-32c7-477b-dc6e-f6e32eda741f",
        "colab": {
          "base_uri": "https://localhost:8080/",
          "height": 139
        }
      },
      "source": [
        "d7={'Cash loans':5,'Revolving loans':10}\n",
        "df1['NAME_CONTRACT_TYPE']=df1['NAME_CONTRACT_TYPE'].map(d7)"
      ],
      "execution_count": 15,
      "outputs": [
        {
          "output_type": "stream",
          "text": [
            "/usr/local/lib/python3.6/dist-packages/ipykernel_launcher.py:2: SettingWithCopyWarning: \n",
            "A value is trying to be set on a copy of a slice from a DataFrame.\n",
            "Try using .loc[row_indexer,col_indexer] = value instead\n",
            "\n",
            "See the caveats in the documentation: http://pandas.pydata.org/pandas-docs/stable/indexing.html#indexing-view-versus-copy\n",
            "  \n"
          ],
          "name": "stderr"
        }
      ]
    },
    {
      "cell_type": "code",
      "metadata": {
        "id": "y50ZXndKFBCS",
        "colab_type": "code",
        "outputId": "d6ed089d-3b08-466b-a251-2643f9ef81c0",
        "colab": {
          "base_uri": "https://localhost:8080/",
          "height": 697
        }
      },
      "source": [
        "df1.isnull().sum()"
      ],
      "execution_count": 16,
      "outputs": [
        {
          "output_type": "execute_result",
          "data": {
            "text/plain": [
              "DAYS_BIRTH                         0\n",
              "AMT_CREDIT                         0\n",
              "YEARS_BUILD_AVG                    0\n",
              "AMT_ANNUITY                        0\n",
              "EXT_SOURCE_2                       0\n",
              "EXT_SOURCE_3                       0\n",
              "LANDAREA_AVG                       0\n",
              "APARTMENTS_AVG                     0\n",
              "BASEMENTAREA_AVG                   0\n",
              "REGION_RATING_CLIENT_W_CITY        0\n",
              "REGION_RATING_CLIENT               0\n",
              "EXT_SOURCE_1                       0\n",
              "FLAG_WORK_PHONE                    0\n",
              "FLAG_OWN_CAR                       0\n",
              "FLAG_OWN_REALTY                    0\n",
              "DAYS_EMPLOYED                      0\n",
              "NAME_EDUCATION_TYPE                0\n",
              "CODE_GENDER                        0\n",
              "REG_REGION_NOT_LIVE_REGION         0\n",
              "REG_REGION_NOT_WORK_REGION         0\n",
              "LIVE_CITY_NOT_WORK_CITY            0\n",
              "LIVE_REGION_NOT_WORK_REGION        0\n",
              "REG_CITY_NOT_LIVE_CITY             0\n",
              "REG_CITY_NOT_WORK_CITY             0\n",
              "NAME_FAMILY_STATUS                 0\n",
              "NAME_INCOME_TYPE                   0\n",
              "CNT_CHILDREN                       0\n",
              "ELEVATORS_AVG                      0\n",
              "ENTRANCES_AVG                      0\n",
              "REGION_POPULATION_RELATIVE         0\n",
              "AMT_INCOME_TOTAL                   0\n",
              "AMT_GOODS_PRICE                    0\n",
              "CNT_FAM_MEMBERS                    0\n",
              "FLAG_CONT_MOBILE                   0\n",
              "NAME_TYPE_SUITE                  233\n",
              "NAME_HOUSING_TYPE                  0\n",
              "OCCUPATION_TYPE                16869\n",
              "NAME_CONTRACT_TYPE                 0\n",
              "OWN_CAR_AGE                        0\n",
              "dtype: int64"
            ]
          },
          "metadata": {
            "tags": []
          },
          "execution_count": 16
        }
      ]
    },
    {
      "cell_type": "code",
      "metadata": {
        "id": "j73Go6Z-5Ko5",
        "colab_type": "code",
        "outputId": "38a06cb0-b0f7-4d2c-b86b-3f6fce8509ba",
        "colab": {
          "base_uri": "https://localhost:8080/",
          "height": 122
        }
      },
      "source": [
        "df1.fillna(0,inplace=True)"
      ],
      "execution_count": 17,
      "outputs": [
        {
          "output_type": "stream",
          "text": [
            "/usr/local/lib/python3.6/dist-packages/pandas/core/frame.py:4034: SettingWithCopyWarning: \n",
            "A value is trying to be set on a copy of a slice from a DataFrame\n",
            "\n",
            "See the caveats in the documentation: http://pandas.pydata.org/pandas-docs/stable/indexing.html#indexing-view-versus-copy\n",
            "  downcast=downcast, **kwargs)\n"
          ],
          "name": "stderr"
        }
      ]
    },
    {
      "cell_type": "code",
      "metadata": {
        "id": "bxQokHOU5RBV",
        "colab_type": "code",
        "outputId": "4fec9dcf-a4ef-4a1b-a39c-4e8677fc108e",
        "colab": {
          "base_uri": "https://localhost:8080/",
          "height": 697
        }
      },
      "source": [
        "df1.isnull().sum()"
      ],
      "execution_count": 18,
      "outputs": [
        {
          "output_type": "execute_result",
          "data": {
            "text/plain": [
              "DAYS_BIRTH                     0\n",
              "AMT_CREDIT                     0\n",
              "YEARS_BUILD_AVG                0\n",
              "AMT_ANNUITY                    0\n",
              "EXT_SOURCE_2                   0\n",
              "EXT_SOURCE_3                   0\n",
              "LANDAREA_AVG                   0\n",
              "APARTMENTS_AVG                 0\n",
              "BASEMENTAREA_AVG               0\n",
              "REGION_RATING_CLIENT_W_CITY    0\n",
              "REGION_RATING_CLIENT           0\n",
              "EXT_SOURCE_1                   0\n",
              "FLAG_WORK_PHONE                0\n",
              "FLAG_OWN_CAR                   0\n",
              "FLAG_OWN_REALTY                0\n",
              "DAYS_EMPLOYED                  0\n",
              "NAME_EDUCATION_TYPE            0\n",
              "CODE_GENDER                    0\n",
              "REG_REGION_NOT_LIVE_REGION     0\n",
              "REG_REGION_NOT_WORK_REGION     0\n",
              "LIVE_CITY_NOT_WORK_CITY        0\n",
              "LIVE_REGION_NOT_WORK_REGION    0\n",
              "REG_CITY_NOT_LIVE_CITY         0\n",
              "REG_CITY_NOT_WORK_CITY         0\n",
              "NAME_FAMILY_STATUS             0\n",
              "NAME_INCOME_TYPE               0\n",
              "CNT_CHILDREN                   0\n",
              "ELEVATORS_AVG                  0\n",
              "ENTRANCES_AVG                  0\n",
              "REGION_POPULATION_RELATIVE     0\n",
              "AMT_INCOME_TOTAL               0\n",
              "AMT_GOODS_PRICE                0\n",
              "CNT_FAM_MEMBERS                0\n",
              "FLAG_CONT_MOBILE               0\n",
              "NAME_TYPE_SUITE                0\n",
              "NAME_HOUSING_TYPE              0\n",
              "OCCUPATION_TYPE                0\n",
              "NAME_CONTRACT_TYPE             0\n",
              "OWN_CAR_AGE                    0\n",
              "dtype: int64"
            ]
          },
          "metadata": {
            "tags": []
          },
          "execution_count": 18
        }
      ]
    },
    {
      "cell_type": "code",
      "metadata": {
        "id": "ULREjDygDp9l",
        "colab_type": "code",
        "colab": {}
      },
      "source": [
        "from sklearn import preprocessing\n",
        "from sklearn.preprocessing import StandardScaler\n",
        "X=preprocessing.StandardScaler().fit(df1).transform(df1)"
      ],
      "execution_count": 0,
      "outputs": []
    },
    {
      "cell_type": "code",
      "metadata": {
        "id": "4_pGOD0K4zfF",
        "colab_type": "code",
        "outputId": "59fc5eb6-cc65-4e51-ea7c-4cf1ff14c6b0",
        "colab": {
          "base_uri": "https://localhost:8080/",
          "height": 697
        }
      },
      "source": [
        "df1.isnull().sum()"
      ],
      "execution_count": 20,
      "outputs": [
        {
          "output_type": "execute_result",
          "data": {
            "text/plain": [
              "DAYS_BIRTH                     0\n",
              "AMT_CREDIT                     0\n",
              "YEARS_BUILD_AVG                0\n",
              "AMT_ANNUITY                    0\n",
              "EXT_SOURCE_2                   0\n",
              "EXT_SOURCE_3                   0\n",
              "LANDAREA_AVG                   0\n",
              "APARTMENTS_AVG                 0\n",
              "BASEMENTAREA_AVG               0\n",
              "REGION_RATING_CLIENT_W_CITY    0\n",
              "REGION_RATING_CLIENT           0\n",
              "EXT_SOURCE_1                   0\n",
              "FLAG_WORK_PHONE                0\n",
              "FLAG_OWN_CAR                   0\n",
              "FLAG_OWN_REALTY                0\n",
              "DAYS_EMPLOYED                  0\n",
              "NAME_EDUCATION_TYPE            0\n",
              "CODE_GENDER                    0\n",
              "REG_REGION_NOT_LIVE_REGION     0\n",
              "REG_REGION_NOT_WORK_REGION     0\n",
              "LIVE_CITY_NOT_WORK_CITY        0\n",
              "LIVE_REGION_NOT_WORK_REGION    0\n",
              "REG_CITY_NOT_LIVE_CITY         0\n",
              "REG_CITY_NOT_WORK_CITY         0\n",
              "NAME_FAMILY_STATUS             0\n",
              "NAME_INCOME_TYPE               0\n",
              "CNT_CHILDREN                   0\n",
              "ELEVATORS_AVG                  0\n",
              "ENTRANCES_AVG                  0\n",
              "REGION_POPULATION_RELATIVE     0\n",
              "AMT_INCOME_TOTAL               0\n",
              "AMT_GOODS_PRICE                0\n",
              "CNT_FAM_MEMBERS                0\n",
              "FLAG_CONT_MOBILE               0\n",
              "NAME_TYPE_SUITE                0\n",
              "NAME_HOUSING_TYPE              0\n",
              "OCCUPATION_TYPE                0\n",
              "NAME_CONTRACT_TYPE             0\n",
              "OWN_CAR_AGE                    0\n",
              "dtype: int64"
            ]
          },
          "metadata": {
            "tags": []
          },
          "execution_count": 20
        }
      ]
    },
    {
      "cell_type": "code",
      "metadata": {
        "id": "GtcR5iccDp90",
        "colab_type": "code",
        "outputId": "049d75ec-da44-4af3-d200-b4e44f8c6dd3",
        "colab": {
          "base_uri": "https://localhost:8080/",
          "height": 321
        }
      },
      "source": [
        "df2=pd.read_csv(\"application_test.csv\")\n",
        "df2.head()"
      ],
      "execution_count": 21,
      "outputs": [
        {
          "output_type": "execute_result",
          "data": {
            "text/html": [
              "<div>\n",
              "<style scoped>\n",
              "    .dataframe tbody tr th:only-of-type {\n",
              "        vertical-align: middle;\n",
              "    }\n",
              "\n",
              "    .dataframe tbody tr th {\n",
              "        vertical-align: top;\n",
              "    }\n",
              "\n",
              "    .dataframe thead th {\n",
              "        text-align: right;\n",
              "    }\n",
              "</style>\n",
              "<table border=\"1\" class=\"dataframe\">\n",
              "  <thead>\n",
              "    <tr style=\"text-align: right;\">\n",
              "      <th></th>\n",
              "      <th>SK_ID_CURR</th>\n",
              "      <th>NAME_CONTRACT_TYPE</th>\n",
              "      <th>CODE_GENDER</th>\n",
              "      <th>FLAG_OWN_CAR</th>\n",
              "      <th>FLAG_OWN_REALTY</th>\n",
              "      <th>CNT_CHILDREN</th>\n",
              "      <th>AMT_INCOME_TOTAL</th>\n",
              "      <th>AMT_CREDIT</th>\n",
              "      <th>AMT_ANNUITY</th>\n",
              "      <th>AMT_GOODS_PRICE</th>\n",
              "      <th>NAME_TYPE_SUITE</th>\n",
              "      <th>NAME_INCOME_TYPE</th>\n",
              "      <th>NAME_EDUCATION_TYPE</th>\n",
              "      <th>NAME_FAMILY_STATUS</th>\n",
              "      <th>NAME_HOUSING_TYPE</th>\n",
              "      <th>REGION_POPULATION_RELATIVE</th>\n",
              "      <th>DAYS_BIRTH</th>\n",
              "      <th>DAYS_EMPLOYED</th>\n",
              "      <th>DAYS_REGISTRATION</th>\n",
              "      <th>DAYS_ID_PUBLISH</th>\n",
              "      <th>OWN_CAR_AGE</th>\n",
              "      <th>FLAG_MOBIL</th>\n",
              "      <th>FLAG_EMP_PHONE</th>\n",
              "      <th>FLAG_WORK_PHONE</th>\n",
              "      <th>FLAG_CONT_MOBILE</th>\n",
              "      <th>FLAG_PHONE</th>\n",
              "      <th>FLAG_EMAIL</th>\n",
              "      <th>OCCUPATION_TYPE</th>\n",
              "      <th>CNT_FAM_MEMBERS</th>\n",
              "      <th>REGION_RATING_CLIENT</th>\n",
              "      <th>REGION_RATING_CLIENT_W_CITY</th>\n",
              "      <th>WEEKDAY_APPR_PROCESS_START</th>\n",
              "      <th>HOUR_APPR_PROCESS_START</th>\n",
              "      <th>REG_REGION_NOT_LIVE_REGION</th>\n",
              "      <th>REG_REGION_NOT_WORK_REGION</th>\n",
              "      <th>LIVE_REGION_NOT_WORK_REGION</th>\n",
              "      <th>REG_CITY_NOT_LIVE_CITY</th>\n",
              "      <th>REG_CITY_NOT_WORK_CITY</th>\n",
              "      <th>LIVE_CITY_NOT_WORK_CITY</th>\n",
              "      <th>ORGANIZATION_TYPE</th>\n",
              "      <th>...</th>\n",
              "      <th>LIVINGAPARTMENTS_MEDI</th>\n",
              "      <th>LIVINGAREA_MEDI</th>\n",
              "      <th>NONLIVINGAPARTMENTS_MEDI</th>\n",
              "      <th>NONLIVINGAREA_MEDI</th>\n",
              "      <th>FONDKAPREMONT_MODE</th>\n",
              "      <th>HOUSETYPE_MODE</th>\n",
              "      <th>TOTALAREA_MODE</th>\n",
              "      <th>WALLSMATERIAL_MODE</th>\n",
              "      <th>EMERGENCYSTATE_MODE</th>\n",
              "      <th>OBS_30_CNT_SOCIAL_CIRCLE</th>\n",
              "      <th>DEF_30_CNT_SOCIAL_CIRCLE</th>\n",
              "      <th>OBS_60_CNT_SOCIAL_CIRCLE</th>\n",
              "      <th>DEF_60_CNT_SOCIAL_CIRCLE</th>\n",
              "      <th>DAYS_LAST_PHONE_CHANGE</th>\n",
              "      <th>FLAG_DOCUMENT_2</th>\n",
              "      <th>FLAG_DOCUMENT_3</th>\n",
              "      <th>FLAG_DOCUMENT_4</th>\n",
              "      <th>FLAG_DOCUMENT_5</th>\n",
              "      <th>FLAG_DOCUMENT_6</th>\n",
              "      <th>FLAG_DOCUMENT_7</th>\n",
              "      <th>FLAG_DOCUMENT_8</th>\n",
              "      <th>FLAG_DOCUMENT_9</th>\n",
              "      <th>FLAG_DOCUMENT_10</th>\n",
              "      <th>FLAG_DOCUMENT_11</th>\n",
              "      <th>FLAG_DOCUMENT_12</th>\n",
              "      <th>FLAG_DOCUMENT_13</th>\n",
              "      <th>FLAG_DOCUMENT_14</th>\n",
              "      <th>FLAG_DOCUMENT_15</th>\n",
              "      <th>FLAG_DOCUMENT_16</th>\n",
              "      <th>FLAG_DOCUMENT_17</th>\n",
              "      <th>FLAG_DOCUMENT_18</th>\n",
              "      <th>FLAG_DOCUMENT_19</th>\n",
              "      <th>FLAG_DOCUMENT_20</th>\n",
              "      <th>FLAG_DOCUMENT_21</th>\n",
              "      <th>AMT_REQ_CREDIT_BUREAU_HOUR</th>\n",
              "      <th>AMT_REQ_CREDIT_BUREAU_DAY</th>\n",
              "      <th>AMT_REQ_CREDIT_BUREAU_WEEK</th>\n",
              "      <th>AMT_REQ_CREDIT_BUREAU_MON</th>\n",
              "      <th>AMT_REQ_CREDIT_BUREAU_QRT</th>\n",
              "      <th>AMT_REQ_CREDIT_BUREAU_YEAR</th>\n",
              "    </tr>\n",
              "  </thead>\n",
              "  <tbody>\n",
              "    <tr>\n",
              "      <th>0</th>\n",
              "      <td>100002</td>\n",
              "      <td>Cash loans</td>\n",
              "      <td>M</td>\n",
              "      <td>N</td>\n",
              "      <td>Y</td>\n",
              "      <td>0</td>\n",
              "      <td>202500.0</td>\n",
              "      <td>406597.5</td>\n",
              "      <td>24700.5</td>\n",
              "      <td>351000.0</td>\n",
              "      <td>Unaccompanied</td>\n",
              "      <td>Working</td>\n",
              "      <td>Secondary / secondary special</td>\n",
              "      <td>Single / not married</td>\n",
              "      <td>House / apartment</td>\n",
              "      <td>0.018801</td>\n",
              "      <td>-9461</td>\n",
              "      <td>-637</td>\n",
              "      <td>-3648</td>\n",
              "      <td>-2120</td>\n",
              "      <td>NaN</td>\n",
              "      <td>1</td>\n",
              "      <td>1</td>\n",
              "      <td>0</td>\n",
              "      <td>1</td>\n",
              "      <td>1</td>\n",
              "      <td>0</td>\n",
              "      <td>Laborers</td>\n",
              "      <td>1.0</td>\n",
              "      <td>2</td>\n",
              "      <td>2</td>\n",
              "      <td>WEDNESDAY</td>\n",
              "      <td>10</td>\n",
              "      <td>0</td>\n",
              "      <td>0</td>\n",
              "      <td>0</td>\n",
              "      <td>0</td>\n",
              "      <td>0</td>\n",
              "      <td>0</td>\n",
              "      <td>Business Entity Type 3</td>\n",
              "      <td>...</td>\n",
              "      <td>0.0205</td>\n",
              "      <td>0.0193</td>\n",
              "      <td>0.0000</td>\n",
              "      <td>0.00</td>\n",
              "      <td>reg oper account</td>\n",
              "      <td>block of flats</td>\n",
              "      <td>0.0149</td>\n",
              "      <td>Stone, brick</td>\n",
              "      <td>No</td>\n",
              "      <td>2.0</td>\n",
              "      <td>2.0</td>\n",
              "      <td>2.0</td>\n",
              "      <td>2.0</td>\n",
              "      <td>-1134.0</td>\n",
              "      <td>0</td>\n",
              "      <td>1</td>\n",
              "      <td>0</td>\n",
              "      <td>0</td>\n",
              "      <td>0</td>\n",
              "      <td>0</td>\n",
              "      <td>0</td>\n",
              "      <td>0</td>\n",
              "      <td>0</td>\n",
              "      <td>0</td>\n",
              "      <td>0</td>\n",
              "      <td>0</td>\n",
              "      <td>0</td>\n",
              "      <td>0</td>\n",
              "      <td>0</td>\n",
              "      <td>0</td>\n",
              "      <td>0</td>\n",
              "      <td>0</td>\n",
              "      <td>0</td>\n",
              "      <td>0</td>\n",
              "      <td>0.0</td>\n",
              "      <td>0.0</td>\n",
              "      <td>0.0</td>\n",
              "      <td>0.0</td>\n",
              "      <td>0.0</td>\n",
              "      <td>1.0</td>\n",
              "    </tr>\n",
              "    <tr>\n",
              "      <th>1</th>\n",
              "      <td>100003</td>\n",
              "      <td>Cash loans</td>\n",
              "      <td>F</td>\n",
              "      <td>N</td>\n",
              "      <td>N</td>\n",
              "      <td>0</td>\n",
              "      <td>270000.0</td>\n",
              "      <td>1293502.5</td>\n",
              "      <td>35698.5</td>\n",
              "      <td>1129500.0</td>\n",
              "      <td>Family</td>\n",
              "      <td>State servant</td>\n",
              "      <td>Higher education</td>\n",
              "      <td>Married</td>\n",
              "      <td>House / apartment</td>\n",
              "      <td>0.003541</td>\n",
              "      <td>-16765</td>\n",
              "      <td>-1188</td>\n",
              "      <td>-1186</td>\n",
              "      <td>-291</td>\n",
              "      <td>NaN</td>\n",
              "      <td>1</td>\n",
              "      <td>1</td>\n",
              "      <td>0</td>\n",
              "      <td>1</td>\n",
              "      <td>1</td>\n",
              "      <td>0</td>\n",
              "      <td>Core staff</td>\n",
              "      <td>2.0</td>\n",
              "      <td>1</td>\n",
              "      <td>1</td>\n",
              "      <td>MONDAY</td>\n",
              "      <td>11</td>\n",
              "      <td>0</td>\n",
              "      <td>0</td>\n",
              "      <td>0</td>\n",
              "      <td>0</td>\n",
              "      <td>0</td>\n",
              "      <td>0</td>\n",
              "      <td>School</td>\n",
              "      <td>...</td>\n",
              "      <td>0.0787</td>\n",
              "      <td>0.0558</td>\n",
              "      <td>0.0039</td>\n",
              "      <td>0.01</td>\n",
              "      <td>reg oper account</td>\n",
              "      <td>block of flats</td>\n",
              "      <td>0.0714</td>\n",
              "      <td>Block</td>\n",
              "      <td>No</td>\n",
              "      <td>1.0</td>\n",
              "      <td>0.0</td>\n",
              "      <td>1.0</td>\n",
              "      <td>0.0</td>\n",
              "      <td>-828.0</td>\n",
              "      <td>0</td>\n",
              "      <td>1</td>\n",
              "      <td>0</td>\n",
              "      <td>0</td>\n",
              "      <td>0</td>\n",
              "      <td>0</td>\n",
              "      <td>0</td>\n",
              "      <td>0</td>\n",
              "      <td>0</td>\n",
              "      <td>0</td>\n",
              "      <td>0</td>\n",
              "      <td>0</td>\n",
              "      <td>0</td>\n",
              "      <td>0</td>\n",
              "      <td>0</td>\n",
              "      <td>0</td>\n",
              "      <td>0</td>\n",
              "      <td>0</td>\n",
              "      <td>0</td>\n",
              "      <td>0</td>\n",
              "      <td>0.0</td>\n",
              "      <td>0.0</td>\n",
              "      <td>0.0</td>\n",
              "      <td>0.0</td>\n",
              "      <td>0.0</td>\n",
              "      <td>0.0</td>\n",
              "    </tr>\n",
              "    <tr>\n",
              "      <th>2</th>\n",
              "      <td>100004</td>\n",
              "      <td>Revolving loans</td>\n",
              "      <td>M</td>\n",
              "      <td>Y</td>\n",
              "      <td>Y</td>\n",
              "      <td>0</td>\n",
              "      <td>67500.0</td>\n",
              "      <td>135000.0</td>\n",
              "      <td>6750.0</td>\n",
              "      <td>135000.0</td>\n",
              "      <td>Unaccompanied</td>\n",
              "      <td>Working</td>\n",
              "      <td>Secondary / secondary special</td>\n",
              "      <td>Single / not married</td>\n",
              "      <td>House / apartment</td>\n",
              "      <td>0.010032</td>\n",
              "      <td>-19046</td>\n",
              "      <td>-225</td>\n",
              "      <td>-4260</td>\n",
              "      <td>-2531</td>\n",
              "      <td>26.0</td>\n",
              "      <td>1</td>\n",
              "      <td>1</td>\n",
              "      <td>1</td>\n",
              "      <td>1</td>\n",
              "      <td>1</td>\n",
              "      <td>0</td>\n",
              "      <td>Laborers</td>\n",
              "      <td>1.0</td>\n",
              "      <td>2</td>\n",
              "      <td>2</td>\n",
              "      <td>MONDAY</td>\n",
              "      <td>9</td>\n",
              "      <td>0</td>\n",
              "      <td>0</td>\n",
              "      <td>0</td>\n",
              "      <td>0</td>\n",
              "      <td>0</td>\n",
              "      <td>0</td>\n",
              "      <td>Government</td>\n",
              "      <td>...</td>\n",
              "      <td>NaN</td>\n",
              "      <td>NaN</td>\n",
              "      <td>NaN</td>\n",
              "      <td>NaN</td>\n",
              "      <td>NaN</td>\n",
              "      <td>NaN</td>\n",
              "      <td>NaN</td>\n",
              "      <td>NaN</td>\n",
              "      <td>NaN</td>\n",
              "      <td>0.0</td>\n",
              "      <td>0.0</td>\n",
              "      <td>0.0</td>\n",
              "      <td>0.0</td>\n",
              "      <td>-815.0</td>\n",
              "      <td>0</td>\n",
              "      <td>0</td>\n",
              "      <td>0</td>\n",
              "      <td>0</td>\n",
              "      <td>0</td>\n",
              "      <td>0</td>\n",
              "      <td>0</td>\n",
              "      <td>0</td>\n",
              "      <td>0</td>\n",
              "      <td>0</td>\n",
              "      <td>0</td>\n",
              "      <td>0</td>\n",
              "      <td>0</td>\n",
              "      <td>0</td>\n",
              "      <td>0</td>\n",
              "      <td>0</td>\n",
              "      <td>0</td>\n",
              "      <td>0</td>\n",
              "      <td>0</td>\n",
              "      <td>0</td>\n",
              "      <td>0.0</td>\n",
              "      <td>0.0</td>\n",
              "      <td>0.0</td>\n",
              "      <td>0.0</td>\n",
              "      <td>0.0</td>\n",
              "      <td>0.0</td>\n",
              "    </tr>\n",
              "    <tr>\n",
              "      <th>3</th>\n",
              "      <td>100006</td>\n",
              "      <td>Cash loans</td>\n",
              "      <td>F</td>\n",
              "      <td>N</td>\n",
              "      <td>Y</td>\n",
              "      <td>0</td>\n",
              "      <td>135000.0</td>\n",
              "      <td>312682.5</td>\n",
              "      <td>29686.5</td>\n",
              "      <td>297000.0</td>\n",
              "      <td>Unaccompanied</td>\n",
              "      <td>Working</td>\n",
              "      <td>Secondary / secondary special</td>\n",
              "      <td>Civil marriage</td>\n",
              "      <td>House / apartment</td>\n",
              "      <td>0.008019</td>\n",
              "      <td>-19005</td>\n",
              "      <td>-3039</td>\n",
              "      <td>-9833</td>\n",
              "      <td>-2437</td>\n",
              "      <td>NaN</td>\n",
              "      <td>1</td>\n",
              "      <td>1</td>\n",
              "      <td>0</td>\n",
              "      <td>1</td>\n",
              "      <td>0</td>\n",
              "      <td>0</td>\n",
              "      <td>Laborers</td>\n",
              "      <td>2.0</td>\n",
              "      <td>2</td>\n",
              "      <td>2</td>\n",
              "      <td>WEDNESDAY</td>\n",
              "      <td>17</td>\n",
              "      <td>0</td>\n",
              "      <td>0</td>\n",
              "      <td>0</td>\n",
              "      <td>0</td>\n",
              "      <td>0</td>\n",
              "      <td>0</td>\n",
              "      <td>Business Entity Type 3</td>\n",
              "      <td>...</td>\n",
              "      <td>NaN</td>\n",
              "      <td>NaN</td>\n",
              "      <td>NaN</td>\n",
              "      <td>NaN</td>\n",
              "      <td>NaN</td>\n",
              "      <td>NaN</td>\n",
              "      <td>NaN</td>\n",
              "      <td>NaN</td>\n",
              "      <td>NaN</td>\n",
              "      <td>2.0</td>\n",
              "      <td>0.0</td>\n",
              "      <td>2.0</td>\n",
              "      <td>0.0</td>\n",
              "      <td>-617.0</td>\n",
              "      <td>0</td>\n",
              "      <td>1</td>\n",
              "      <td>0</td>\n",
              "      <td>0</td>\n",
              "      <td>0</td>\n",
              "      <td>0</td>\n",
              "      <td>0</td>\n",
              "      <td>0</td>\n",
              "      <td>0</td>\n",
              "      <td>0</td>\n",
              "      <td>0</td>\n",
              "      <td>0</td>\n",
              "      <td>0</td>\n",
              "      <td>0</td>\n",
              "      <td>0</td>\n",
              "      <td>0</td>\n",
              "      <td>0</td>\n",
              "      <td>0</td>\n",
              "      <td>0</td>\n",
              "      <td>0</td>\n",
              "      <td>NaN</td>\n",
              "      <td>NaN</td>\n",
              "      <td>NaN</td>\n",
              "      <td>NaN</td>\n",
              "      <td>NaN</td>\n",
              "      <td>NaN</td>\n",
              "    </tr>\n",
              "    <tr>\n",
              "      <th>4</th>\n",
              "      <td>100007</td>\n",
              "      <td>Cash loans</td>\n",
              "      <td>M</td>\n",
              "      <td>N</td>\n",
              "      <td>Y</td>\n",
              "      <td>0</td>\n",
              "      <td>121500.0</td>\n",
              "      <td>513000.0</td>\n",
              "      <td>21865.5</td>\n",
              "      <td>513000.0</td>\n",
              "      <td>Unaccompanied</td>\n",
              "      <td>Working</td>\n",
              "      <td>Secondary / secondary special</td>\n",
              "      <td>Single / not married</td>\n",
              "      <td>House / apartment</td>\n",
              "      <td>0.028663</td>\n",
              "      <td>-19932</td>\n",
              "      <td>-3038</td>\n",
              "      <td>-4311</td>\n",
              "      <td>-3458</td>\n",
              "      <td>NaN</td>\n",
              "      <td>1</td>\n",
              "      <td>1</td>\n",
              "      <td>0</td>\n",
              "      <td>1</td>\n",
              "      <td>0</td>\n",
              "      <td>0</td>\n",
              "      <td>Core staff</td>\n",
              "      <td>1.0</td>\n",
              "      <td>2</td>\n",
              "      <td>2</td>\n",
              "      <td>THURSDAY</td>\n",
              "      <td>11</td>\n",
              "      <td>0</td>\n",
              "      <td>0</td>\n",
              "      <td>0</td>\n",
              "      <td>0</td>\n",
              "      <td>1</td>\n",
              "      <td>1</td>\n",
              "      <td>Religion</td>\n",
              "      <td>...</td>\n",
              "      <td>NaN</td>\n",
              "      <td>NaN</td>\n",
              "      <td>NaN</td>\n",
              "      <td>NaN</td>\n",
              "      <td>NaN</td>\n",
              "      <td>NaN</td>\n",
              "      <td>NaN</td>\n",
              "      <td>NaN</td>\n",
              "      <td>NaN</td>\n",
              "      <td>0.0</td>\n",
              "      <td>0.0</td>\n",
              "      <td>0.0</td>\n",
              "      <td>0.0</td>\n",
              "      <td>-1106.0</td>\n",
              "      <td>0</td>\n",
              "      <td>0</td>\n",
              "      <td>0</td>\n",
              "      <td>0</td>\n",
              "      <td>0</td>\n",
              "      <td>0</td>\n",
              "      <td>1</td>\n",
              "      <td>0</td>\n",
              "      <td>0</td>\n",
              "      <td>0</td>\n",
              "      <td>0</td>\n",
              "      <td>0</td>\n",
              "      <td>0</td>\n",
              "      <td>0</td>\n",
              "      <td>0</td>\n",
              "      <td>0</td>\n",
              "      <td>0</td>\n",
              "      <td>0</td>\n",
              "      <td>0</td>\n",
              "      <td>0</td>\n",
              "      <td>0.0</td>\n",
              "      <td>0.0</td>\n",
              "      <td>0.0</td>\n",
              "      <td>0.0</td>\n",
              "      <td>0.0</td>\n",
              "      <td>0.0</td>\n",
              "    </tr>\n",
              "  </tbody>\n",
              "</table>\n",
              "<p>5 rows × 121 columns</p>\n",
              "</div>"
            ],
            "text/plain": [
              "   SK_ID_CURR  ... AMT_REQ_CREDIT_BUREAU_YEAR\n",
              "0      100002  ...                        1.0\n",
              "1      100003  ...                        0.0\n",
              "2      100004  ...                        0.0\n",
              "3      100006  ...                        NaN\n",
              "4      100007  ...                        0.0\n",
              "\n",
              "[5 rows x 121 columns]"
            ]
          },
          "metadata": {
            "tags": []
          },
          "execution_count": 21
        }
      ]
    },
    {
      "cell_type": "code",
      "metadata": {
        "id": "7L-M9tRYE2bw",
        "colab_type": "code",
        "outputId": "b5ba5c24-8b63-478d-c609-b241c82f1849",
        "colab": {
          "base_uri": "https://localhost:8080/",
          "height": 292
        }
      },
      "source": [
        "features=[\"DAYS_BIRTH\",\"AMT_CREDIT\",\"YEARS_BUILD_AVG\",\"AMT_ANNUITY\",\"EXT_SOURCE_2\",\"EXT_SOURCE_3\",\"LANDAREA_AVG\",\"APARTMENTS_AVG\",\"BASEMENTAREA_AVG\",\"REGION_RATING_CLIENT_W_CITY\",\"REGION_RATING_CLIENT\",\"EXT_SOURCE_1\",\"FLAG_WORK_PHONE\",\"FLAG_OWN_CAR\",\"FLAG_OWN_REALTY\",\"DAYS_EMPLOYED\",\"NAME_EDUCATION_TYPE\",\"CODE_GENDER\",\"REG_REGION_NOT_LIVE_REGION\",\"REG_REGION_NOT_WORK_REGION\",\"LIVE_CITY_NOT_WORK_CITY\",\"LIVE_REGION_NOT_WORK_REGION\",\"REG_CITY_NOT_LIVE_CITY\",\"REG_CITY_NOT_WORK_CITY\",\"NAME_FAMILY_STATUS\",\"NAME_INCOME_TYPE\",\"CNT_CHILDREN\",\"ELEVATORS_AVG\",\"ENTRANCES_AVG\",\"REGION_POPULATION_RELATIVE\",\"AMT_INCOME_TOTAL\",\"AMT_GOODS_PRICE\",\"CNT_FAM_MEMBERS\",\"FLAG_CONT_MOBILE\",\"NAME_TYPE_SUITE\",\"NAME_HOUSING_TYPE\",\"OCCUPATION_TYPE\",\"NAME_CONTRACT_TYPE\",\"OWN_CAR_AGE\"]\n",
        "X1=df2[features]\n",
        "X1.head()"
      ],
      "execution_count": 22,
      "outputs": [
        {
          "output_type": "execute_result",
          "data": {
            "text/html": [
              "<div>\n",
              "<style scoped>\n",
              "    .dataframe tbody tr th:only-of-type {\n",
              "        vertical-align: middle;\n",
              "    }\n",
              "\n",
              "    .dataframe tbody tr th {\n",
              "        vertical-align: top;\n",
              "    }\n",
              "\n",
              "    .dataframe thead th {\n",
              "        text-align: right;\n",
              "    }\n",
              "</style>\n",
              "<table border=\"1\" class=\"dataframe\">\n",
              "  <thead>\n",
              "    <tr style=\"text-align: right;\">\n",
              "      <th></th>\n",
              "      <th>DAYS_BIRTH</th>\n",
              "      <th>AMT_CREDIT</th>\n",
              "      <th>YEARS_BUILD_AVG</th>\n",
              "      <th>AMT_ANNUITY</th>\n",
              "      <th>EXT_SOURCE_2</th>\n",
              "      <th>EXT_SOURCE_3</th>\n",
              "      <th>LANDAREA_AVG</th>\n",
              "      <th>APARTMENTS_AVG</th>\n",
              "      <th>BASEMENTAREA_AVG</th>\n",
              "      <th>REGION_RATING_CLIENT_W_CITY</th>\n",
              "      <th>REGION_RATING_CLIENT</th>\n",
              "      <th>EXT_SOURCE_1</th>\n",
              "      <th>FLAG_WORK_PHONE</th>\n",
              "      <th>FLAG_OWN_CAR</th>\n",
              "      <th>FLAG_OWN_REALTY</th>\n",
              "      <th>DAYS_EMPLOYED</th>\n",
              "      <th>NAME_EDUCATION_TYPE</th>\n",
              "      <th>CODE_GENDER</th>\n",
              "      <th>REG_REGION_NOT_LIVE_REGION</th>\n",
              "      <th>REG_REGION_NOT_WORK_REGION</th>\n",
              "      <th>LIVE_CITY_NOT_WORK_CITY</th>\n",
              "      <th>LIVE_REGION_NOT_WORK_REGION</th>\n",
              "      <th>REG_CITY_NOT_LIVE_CITY</th>\n",
              "      <th>REG_CITY_NOT_WORK_CITY</th>\n",
              "      <th>NAME_FAMILY_STATUS</th>\n",
              "      <th>NAME_INCOME_TYPE</th>\n",
              "      <th>CNT_CHILDREN</th>\n",
              "      <th>ELEVATORS_AVG</th>\n",
              "      <th>ENTRANCES_AVG</th>\n",
              "      <th>REGION_POPULATION_RELATIVE</th>\n",
              "      <th>AMT_INCOME_TOTAL</th>\n",
              "      <th>AMT_GOODS_PRICE</th>\n",
              "      <th>CNT_FAM_MEMBERS</th>\n",
              "      <th>FLAG_CONT_MOBILE</th>\n",
              "      <th>NAME_TYPE_SUITE</th>\n",
              "      <th>NAME_HOUSING_TYPE</th>\n",
              "      <th>OCCUPATION_TYPE</th>\n",
              "      <th>NAME_CONTRACT_TYPE</th>\n",
              "      <th>OWN_CAR_AGE</th>\n",
              "    </tr>\n",
              "  </thead>\n",
              "  <tbody>\n",
              "    <tr>\n",
              "      <th>0</th>\n",
              "      <td>-9461</td>\n",
              "      <td>406597.5</td>\n",
              "      <td>0.6192</td>\n",
              "      <td>24700.5</td>\n",
              "      <td>0.262949</td>\n",
              "      <td>0.139376</td>\n",
              "      <td>0.0369</td>\n",
              "      <td>0.0247</td>\n",
              "      <td>0.0369</td>\n",
              "      <td>2</td>\n",
              "      <td>2</td>\n",
              "      <td>0.083037</td>\n",
              "      <td>0</td>\n",
              "      <td>N</td>\n",
              "      <td>Y</td>\n",
              "      <td>-637</td>\n",
              "      <td>Secondary / secondary special</td>\n",
              "      <td>M</td>\n",
              "      <td>0</td>\n",
              "      <td>0</td>\n",
              "      <td>0</td>\n",
              "      <td>0</td>\n",
              "      <td>0</td>\n",
              "      <td>0</td>\n",
              "      <td>Single / not married</td>\n",
              "      <td>Working</td>\n",
              "      <td>0</td>\n",
              "      <td>0.00</td>\n",
              "      <td>0.0690</td>\n",
              "      <td>0.018801</td>\n",
              "      <td>202500.0</td>\n",
              "      <td>351000.0</td>\n",
              "      <td>1.0</td>\n",
              "      <td>1</td>\n",
              "      <td>Unaccompanied</td>\n",
              "      <td>House / apartment</td>\n",
              "      <td>Laborers</td>\n",
              "      <td>Cash loans</td>\n",
              "      <td>NaN</td>\n",
              "    </tr>\n",
              "    <tr>\n",
              "      <th>1</th>\n",
              "      <td>-16765</td>\n",
              "      <td>1293502.5</td>\n",
              "      <td>0.7960</td>\n",
              "      <td>35698.5</td>\n",
              "      <td>0.622246</td>\n",
              "      <td>NaN</td>\n",
              "      <td>0.0130</td>\n",
              "      <td>0.0959</td>\n",
              "      <td>0.0529</td>\n",
              "      <td>1</td>\n",
              "      <td>1</td>\n",
              "      <td>0.311267</td>\n",
              "      <td>0</td>\n",
              "      <td>N</td>\n",
              "      <td>N</td>\n",
              "      <td>-1188</td>\n",
              "      <td>Higher education</td>\n",
              "      <td>F</td>\n",
              "      <td>0</td>\n",
              "      <td>0</td>\n",
              "      <td>0</td>\n",
              "      <td>0</td>\n",
              "      <td>0</td>\n",
              "      <td>0</td>\n",
              "      <td>Married</td>\n",
              "      <td>State servant</td>\n",
              "      <td>0</td>\n",
              "      <td>0.08</td>\n",
              "      <td>0.0345</td>\n",
              "      <td>0.003541</td>\n",
              "      <td>270000.0</td>\n",
              "      <td>1129500.0</td>\n",
              "      <td>2.0</td>\n",
              "      <td>1</td>\n",
              "      <td>Family</td>\n",
              "      <td>House / apartment</td>\n",
              "      <td>Core staff</td>\n",
              "      <td>Cash loans</td>\n",
              "      <td>NaN</td>\n",
              "    </tr>\n",
              "    <tr>\n",
              "      <th>2</th>\n",
              "      <td>-19046</td>\n",
              "      <td>135000.0</td>\n",
              "      <td>NaN</td>\n",
              "      <td>6750.0</td>\n",
              "      <td>0.555912</td>\n",
              "      <td>0.729567</td>\n",
              "      <td>NaN</td>\n",
              "      <td>NaN</td>\n",
              "      <td>NaN</td>\n",
              "      <td>2</td>\n",
              "      <td>2</td>\n",
              "      <td>NaN</td>\n",
              "      <td>1</td>\n",
              "      <td>Y</td>\n",
              "      <td>Y</td>\n",
              "      <td>-225</td>\n",
              "      <td>Secondary / secondary special</td>\n",
              "      <td>M</td>\n",
              "      <td>0</td>\n",
              "      <td>0</td>\n",
              "      <td>0</td>\n",
              "      <td>0</td>\n",
              "      <td>0</td>\n",
              "      <td>0</td>\n",
              "      <td>Single / not married</td>\n",
              "      <td>Working</td>\n",
              "      <td>0</td>\n",
              "      <td>NaN</td>\n",
              "      <td>NaN</td>\n",
              "      <td>0.010032</td>\n",
              "      <td>67500.0</td>\n",
              "      <td>135000.0</td>\n",
              "      <td>1.0</td>\n",
              "      <td>1</td>\n",
              "      <td>Unaccompanied</td>\n",
              "      <td>House / apartment</td>\n",
              "      <td>Laborers</td>\n",
              "      <td>Revolving loans</td>\n",
              "      <td>26.0</td>\n",
              "    </tr>\n",
              "    <tr>\n",
              "      <th>3</th>\n",
              "      <td>-19005</td>\n",
              "      <td>312682.5</td>\n",
              "      <td>NaN</td>\n",
              "      <td>29686.5</td>\n",
              "      <td>0.650442</td>\n",
              "      <td>NaN</td>\n",
              "      <td>NaN</td>\n",
              "      <td>NaN</td>\n",
              "      <td>NaN</td>\n",
              "      <td>2</td>\n",
              "      <td>2</td>\n",
              "      <td>NaN</td>\n",
              "      <td>0</td>\n",
              "      <td>N</td>\n",
              "      <td>Y</td>\n",
              "      <td>-3039</td>\n",
              "      <td>Secondary / secondary special</td>\n",
              "      <td>F</td>\n",
              "      <td>0</td>\n",
              "      <td>0</td>\n",
              "      <td>0</td>\n",
              "      <td>0</td>\n",
              "      <td>0</td>\n",
              "      <td>0</td>\n",
              "      <td>Civil marriage</td>\n",
              "      <td>Working</td>\n",
              "      <td>0</td>\n",
              "      <td>NaN</td>\n",
              "      <td>NaN</td>\n",
              "      <td>0.008019</td>\n",
              "      <td>135000.0</td>\n",
              "      <td>297000.0</td>\n",
              "      <td>2.0</td>\n",
              "      <td>1</td>\n",
              "      <td>Unaccompanied</td>\n",
              "      <td>House / apartment</td>\n",
              "      <td>Laborers</td>\n",
              "      <td>Cash loans</td>\n",
              "      <td>NaN</td>\n",
              "    </tr>\n",
              "    <tr>\n",
              "      <th>4</th>\n",
              "      <td>-19932</td>\n",
              "      <td>513000.0</td>\n",
              "      <td>NaN</td>\n",
              "      <td>21865.5</td>\n",
              "      <td>0.322738</td>\n",
              "      <td>NaN</td>\n",
              "      <td>NaN</td>\n",
              "      <td>NaN</td>\n",
              "      <td>NaN</td>\n",
              "      <td>2</td>\n",
              "      <td>2</td>\n",
              "      <td>NaN</td>\n",
              "      <td>0</td>\n",
              "      <td>N</td>\n",
              "      <td>Y</td>\n",
              "      <td>-3038</td>\n",
              "      <td>Secondary / secondary special</td>\n",
              "      <td>M</td>\n",
              "      <td>0</td>\n",
              "      <td>0</td>\n",
              "      <td>1</td>\n",
              "      <td>0</td>\n",
              "      <td>0</td>\n",
              "      <td>1</td>\n",
              "      <td>Single / not married</td>\n",
              "      <td>Working</td>\n",
              "      <td>0</td>\n",
              "      <td>NaN</td>\n",
              "      <td>NaN</td>\n",
              "      <td>0.028663</td>\n",
              "      <td>121500.0</td>\n",
              "      <td>513000.0</td>\n",
              "      <td>1.0</td>\n",
              "      <td>1</td>\n",
              "      <td>Unaccompanied</td>\n",
              "      <td>House / apartment</td>\n",
              "      <td>Core staff</td>\n",
              "      <td>Cash loans</td>\n",
              "      <td>NaN</td>\n",
              "    </tr>\n",
              "  </tbody>\n",
              "</table>\n",
              "</div>"
            ],
            "text/plain": [
              "   DAYS_BIRTH  AMT_CREDIT  ...  NAME_CONTRACT_TYPE  OWN_CAR_AGE\n",
              "0       -9461    406597.5  ...          Cash loans          NaN\n",
              "1      -16765   1293502.5  ...          Cash loans          NaN\n",
              "2      -19046    135000.0  ...     Revolving loans         26.0\n",
              "3      -19005    312682.5  ...          Cash loans          NaN\n",
              "4      -19932    513000.0  ...          Cash loans          NaN\n",
              "\n",
              "[5 rows x 39 columns]"
            ]
          },
          "metadata": {
            "tags": []
          },
          "execution_count": 22
        }
      ]
    },
    {
      "cell_type": "code",
      "metadata": {
        "id": "DG4k072cHI3C",
        "colab_type": "code",
        "outputId": "1dfa9406-0778-4fc1-e298-4916fa089721",
        "colab": {
          "base_uri": "https://localhost:8080/",
          "height": 289
        }
      },
      "source": [
        "cd=X1.isnull().sum()\n",
        "cd=cd[cd>0]\n",
        "cd.sort_values(ascending=True)"
      ],
      "execution_count": 23,
      "outputs": [
        {
          "output_type": "execute_result",
          "data": {
            "text/plain": [
              "AMT_ANNUITY             1\n",
              "CNT_FAM_MEMBERS         1\n",
              "AMT_GOODS_PRICE        38\n",
              "EXT_SOURCE_2          126\n",
              "NAME_TYPE_SUITE       192\n",
              "EXT_SOURCE_3         9944\n",
              "OCCUPATION_TYPE     15654\n",
              "ENTRANCES_AVG       25195\n",
              "APARTMENTS_AVG      25385\n",
              "ELEVATORS_AVG       26651\n",
              "EXT_SOURCE_1        28172\n",
              "BASEMENTAREA_AVG    29199\n",
              "LANDAREA_AVG        29721\n",
              "OWN_CAR_AGE         32950\n",
              "YEARS_BUILD_AVG     33239\n",
              "dtype: int64"
            ]
          },
          "metadata": {
            "tags": []
          },
          "execution_count": 23
        }
      ]
    },
    {
      "cell_type": "code",
      "metadata": {
        "id": "F4Epd7ImHPVA",
        "colab_type": "code",
        "outputId": "4fac6644-2655-4d5b-9c8d-1953761d686a",
        "colab": {
          "base_uri": "https://localhost:8080/",
          "height": 139
        }
      },
      "source": [
        "X1.fillna(0,inplace=True)\n",
        "cd=X1.isnull().sum()\n",
        "cd=cd[cd>0]\n",
        "cd.sort_values(ascending=True)"
      ],
      "execution_count": 24,
      "outputs": [
        {
          "output_type": "stream",
          "text": [
            "/usr/local/lib/python3.6/dist-packages/pandas/core/frame.py:4034: SettingWithCopyWarning: \n",
            "A value is trying to be set on a copy of a slice from a DataFrame\n",
            "\n",
            "See the caveats in the documentation: http://pandas.pydata.org/pandas-docs/stable/indexing.html#indexing-view-versus-copy\n",
            "  downcast=downcast, **kwargs)\n"
          ],
          "name": "stderr"
        },
        {
          "output_type": "execute_result",
          "data": {
            "text/plain": [
              "Series([], dtype: int64)"
            ]
          },
          "metadata": {
            "tags": []
          },
          "execution_count": 24
        }
      ]
    },
    {
      "cell_type": "code",
      "metadata": {
        "id": "MS-i2IEAHjji",
        "colab_type": "code",
        "outputId": "ec6f367a-0c9f-42d0-a9ec-5b20b6a7ae63",
        "colab": {
          "base_uri": "https://localhost:8080/",
          "height": 139
        }
      },
      "source": [
        "d1={'Low-skill Laborers':1,'Laborers':2,'Drivers':4,'Cleaning staff':3,'Cooking staff':5,'Security staff':6,'Waiters/barmen staff':7,'Medicine staff':8,'Realty agents':9,'Sales staff':10,'Private service staff':11,'IT staff':12,'Accountants':13,'Core staff':14,'Managers':15,'HR staff':16,'High skill tech staff':17,'Secretaries':18,0:0}\n",
        "X1['OCCUPATION_TYPE']=X1['OCCUPATION_TYPE'].map(d1)"
      ],
      "execution_count": 25,
      "outputs": [
        {
          "output_type": "stream",
          "text": [
            "/usr/local/lib/python3.6/dist-packages/ipykernel_launcher.py:2: SettingWithCopyWarning: \n",
            "A value is trying to be set on a copy of a slice from a DataFrame.\n",
            "Try using .loc[row_indexer,col_indexer] = value instead\n",
            "\n",
            "See the caveats in the documentation: http://pandas.pydata.org/pandas-docs/stable/indexing.html#indexing-view-versus-copy\n",
            "  \n"
          ],
          "name": "stderr"
        }
      ]
    },
    {
      "cell_type": "code",
      "metadata": {
        "id": "7ILX5EatHum8",
        "colab_type": "code",
        "outputId": "522c7687-5768-458e-c0cd-b7a2e7db8f81",
        "colab": {
          "base_uri": "https://localhost:8080/",
          "height": 139
        }
      },
      "source": [
        "d2={'N':0,'Y':100}\n",
        "X1['FLAG_OWN_CAR']=X1['FLAG_OWN_CAR'].map(d2)"
      ],
      "execution_count": 26,
      "outputs": [
        {
          "output_type": "stream",
          "text": [
            "/usr/local/lib/python3.6/dist-packages/ipykernel_launcher.py:2: SettingWithCopyWarning: \n",
            "A value is trying to be set on a copy of a slice from a DataFrame.\n",
            "Try using .loc[row_indexer,col_indexer] = value instead\n",
            "\n",
            "See the caveats in the documentation: http://pandas.pydata.org/pandas-docs/stable/indexing.html#indexing-view-versus-copy\n",
            "  \n"
          ],
          "name": "stderr"
        }
      ]
    },
    {
      "cell_type": "code",
      "metadata": {
        "id": "WC62bTMFH1Zy",
        "colab_type": "code",
        "outputId": "91eaa41a-3c57-4e8e-c454-fe24e1f23e0c",
        "colab": {
          "base_uri": "https://localhost:8080/",
          "height": 139
        }
      },
      "source": [
        "d1={'Lower secondary':1,'Secondary / secondary special':2,'Higher education':4,'Incomplete higher':3,'Academic degree':5}\n",
        "X1['NAME_EDUCATION_TYPE']=X1['NAME_EDUCATION_TYPE'].map(d1)"
      ],
      "execution_count": 27,
      "outputs": [
        {
          "output_type": "stream",
          "text": [
            "/usr/local/lib/python3.6/dist-packages/ipykernel_launcher.py:2: SettingWithCopyWarning: \n",
            "A value is trying to be set on a copy of a slice from a DataFrame.\n",
            "Try using .loc[row_indexer,col_indexer] = value instead\n",
            "\n",
            "See the caveats in the documentation: http://pandas.pydata.org/pandas-docs/stable/indexing.html#indexing-view-versus-copy\n",
            "  \n"
          ],
          "name": "stderr"
        }
      ]
    },
    {
      "cell_type": "code",
      "metadata": {
        "id": "J0ZkuY-1H8KG",
        "colab_type": "code",
        "outputId": "6248d9df-4410-43b9-ea64-7d09972c9fc5",
        "colab": {
          "base_uri": "https://localhost:8080/",
          "height": 139
        }
      },
      "source": [
        "d2={'N':0,'Y':200}\n",
        "X1['FLAG_OWN_REALTY']=X1['FLAG_OWN_REALTY'].map(d2)"
      ],
      "execution_count": 28,
      "outputs": [
        {
          "output_type": "stream",
          "text": [
            "/usr/local/lib/python3.6/dist-packages/ipykernel_launcher.py:2: SettingWithCopyWarning: \n",
            "A value is trying to be set on a copy of a slice from a DataFrame.\n",
            "Try using .loc[row_indexer,col_indexer] = value instead\n",
            "\n",
            "See the caveats in the documentation: http://pandas.pydata.org/pandas-docs/stable/indexing.html#indexing-view-versus-copy\n",
            "  \n"
          ],
          "name": "stderr"
        }
      ]
    },
    {
      "cell_type": "code",
      "metadata": {
        "id": "RW0TqtrhIFcT",
        "colab_type": "code",
        "outputId": "f3051191-f0a9-4364-f92e-f21e4dee5810",
        "colab": {
          "base_uri": "https://localhost:8080/",
          "height": 139
        }
      },
      "source": [
        "d4={'F':1.5,'M':1.2,'XNA':0.7}\n",
        "X1['CODE_GENDER']=X1['CODE_GENDER'].map(d4)"
      ],
      "execution_count": 29,
      "outputs": [
        {
          "output_type": "stream",
          "text": [
            "/usr/local/lib/python3.6/dist-packages/ipykernel_launcher.py:2: SettingWithCopyWarning: \n",
            "A value is trying to be set on a copy of a slice from a DataFrame.\n",
            "Try using .loc[row_indexer,col_indexer] = value instead\n",
            "\n",
            "See the caveats in the documentation: http://pandas.pydata.org/pandas-docs/stable/indexing.html#indexing-view-versus-copy\n",
            "  \n"
          ],
          "name": "stderr"
        }
      ]
    },
    {
      "cell_type": "code",
      "metadata": {
        "id": "i65d1ro7Jk0U",
        "colab_type": "code",
        "outputId": "cf3a7fe0-117a-4d99-c8af-f2ff4174796a",
        "colab": {
          "base_uri": "https://localhost:8080/",
          "height": 139
        }
      },
      "source": [
        "d10={'Unknown':0,'Widow':2,'Separated':1,'Civil marriage':7,'Single / not married':5,'Married':6}\n",
        "X1['NAME_FAMILY_STATUS']=X1['NAME_FAMILY_STATUS'].map(d10)"
      ],
      "execution_count": 30,
      "outputs": [
        {
          "output_type": "stream",
          "text": [
            "/usr/local/lib/python3.6/dist-packages/ipykernel_launcher.py:2: SettingWithCopyWarning: \n",
            "A value is trying to be set on a copy of a slice from a DataFrame.\n",
            "Try using .loc[row_indexer,col_indexer] = value instead\n",
            "\n",
            "See the caveats in the documentation: http://pandas.pydata.org/pandas-docs/stable/indexing.html#indexing-view-versus-copy\n",
            "  \n"
          ],
          "name": "stderr"
        }
      ]
    },
    {
      "cell_type": "code",
      "metadata": {
        "id": "f8Lvx4rgJouE",
        "colab_type": "code",
        "outputId": "eba49287-8232-4750-da51-49234ac1f3aa",
        "colab": {
          "base_uri": "https://localhost:8080/",
          "height": 139
        }
      },
      "source": [
        "d5={'Unemployed':0,'Student':1.5,'Pensioner':2,'Maternity leave':4,'Businessman':5,'Working':4.5,'Commercial associate':3.5,'State servant':10}\n",
        "X1['NAME_INCOME_TYPE']=X1['NAME_INCOME_TYPE'].map(d5)"
      ],
      "execution_count": 31,
      "outputs": [
        {
          "output_type": "stream",
          "text": [
            "/usr/local/lib/python3.6/dist-packages/ipykernel_launcher.py:2: SettingWithCopyWarning: \n",
            "A value is trying to be set on a copy of a slice from a DataFrame.\n",
            "Try using .loc[row_indexer,col_indexer] = value instead\n",
            "\n",
            "See the caveats in the documentation: http://pandas.pydata.org/pandas-docs/stable/indexing.html#indexing-view-versus-copy\n",
            "  \n"
          ],
          "name": "stderr"
        }
      ]
    },
    {
      "cell_type": "code",
      "metadata": {
        "id": "VwGN57hhJrnI",
        "colab_type": "code",
        "outputId": "4f34e819-eb7c-41e0-d299-993af2b800c2",
        "colab": {
          "base_uri": "https://localhost:8080/",
          "height": 139
        }
      },
      "source": [
        "\n",
        "\n",
        "\n",
        "\n",
        "d5={'Rented apartment':1,'With parents':9,'House / apartment':7,'Co-op apartment':5,'Office apartment':11,'Municipal apartment':13}\n",
        "X1['NAME_HOUSING_TYPE']=X1['NAME_HOUSING_TYPE'].map(d5)"
      ],
      "execution_count": 32,
      "outputs": [
        {
          "output_type": "stream",
          "text": [
            "/usr/local/lib/python3.6/dist-packages/ipykernel_launcher.py:6: SettingWithCopyWarning: \n",
            "A value is trying to be set on a copy of a slice from a DataFrame.\n",
            "Try using .loc[row_indexer,col_indexer] = value instead\n",
            "\n",
            "See the caveats in the documentation: http://pandas.pydata.org/pandas-docs/stable/indexing.html#indexing-view-versus-copy\n",
            "  \n"
          ],
          "name": "stderr"
        }
      ]
    },
    {
      "cell_type": "code",
      "metadata": {
        "id": "133UPavgJ6Z_",
        "colab_type": "code",
        "outputId": "68ba0b2d-f3e4-4e86-dde0-c1b8651122a0",
        "colab": {
          "base_uri": "https://localhost:8080/",
          "height": 139
        }
      },
      "source": [
        "d6={'Unaccompanied':3.5,'Family':8,'Spouse, partner':6,'Children':10,'Other_B':5,'Other_A':4.5,'Group of people':20,0:0}\n",
        "X1['NAME_TYPE_SUITE']=X1['NAME_TYPE_SUITE'].map(d6)"
      ],
      "execution_count": 33,
      "outputs": [
        {
          "output_type": "stream",
          "text": [
            "/usr/local/lib/python3.6/dist-packages/ipykernel_launcher.py:2: SettingWithCopyWarning: \n",
            "A value is trying to be set on a copy of a slice from a DataFrame.\n",
            "Try using .loc[row_indexer,col_indexer] = value instead\n",
            "\n",
            "See the caveats in the documentation: http://pandas.pydata.org/pandas-docs/stable/indexing.html#indexing-view-versus-copy\n",
            "  \n"
          ],
          "name": "stderr"
        }
      ]
    },
    {
      "cell_type": "code",
      "metadata": {
        "id": "mVcCFuukKAc5",
        "colab_type": "code",
        "outputId": "576762d7-8f11-42e8-b908-caea619d067a",
        "colab": {
          "base_uri": "https://localhost:8080/",
          "height": 139
        }
      },
      "source": [
        "d7={'Cash loans':5,'Revolving loans':10}\n",
        "X1['NAME_CONTRACT_TYPE']=X1['NAME_CONTRACT_TYPE'].map(d7)"
      ],
      "execution_count": 34,
      "outputs": [
        {
          "output_type": "stream",
          "text": [
            "/usr/local/lib/python3.6/dist-packages/ipykernel_launcher.py:2: SettingWithCopyWarning: \n",
            "A value is trying to be set on a copy of a slice from a DataFrame.\n",
            "Try using .loc[row_indexer,col_indexer] = value instead\n",
            "\n",
            "See the caveats in the documentation: http://pandas.pydata.org/pandas-docs/stable/indexing.html#indexing-view-versus-copy\n",
            "  \n"
          ],
          "name": "stderr"
        }
      ]
    },
    {
      "cell_type": "code",
      "metadata": {
        "id": "taFvgPjRKG3Y",
        "colab_type": "code",
        "colab": {}
      },
      "source": [
        "from sklearn import preprocessing\n",
        "from sklearn.preprocessing import StandardScaler\n",
        "X2=preprocessing.StandardScaler().fit(X1).transform(X1)\n"
      ],
      "execution_count": 0,
      "outputs": []
    },
    {
      "cell_type": "code",
      "metadata": {
        "id": "3WyN-_4x4iZo",
        "colab_type": "code",
        "outputId": "038e5e6d-23e5-44f7-e286-ef0cfb3e3079",
        "colab": {
          "base_uri": "https://localhost:8080/",
          "height": 697
        }
      },
      "source": [
        "X1.isnull().sum()"
      ],
      "execution_count": 36,
      "outputs": [
        {
          "output_type": "execute_result",
          "data": {
            "text/plain": [
              "DAYS_BIRTH                     0\n",
              "AMT_CREDIT                     0\n",
              "YEARS_BUILD_AVG                0\n",
              "AMT_ANNUITY                    0\n",
              "EXT_SOURCE_2                   0\n",
              "EXT_SOURCE_3                   0\n",
              "LANDAREA_AVG                   0\n",
              "APARTMENTS_AVG                 0\n",
              "BASEMENTAREA_AVG               0\n",
              "REGION_RATING_CLIENT_W_CITY    0\n",
              "REGION_RATING_CLIENT           0\n",
              "EXT_SOURCE_1                   0\n",
              "FLAG_WORK_PHONE                0\n",
              "FLAG_OWN_CAR                   0\n",
              "FLAG_OWN_REALTY                0\n",
              "DAYS_EMPLOYED                  0\n",
              "NAME_EDUCATION_TYPE            0\n",
              "CODE_GENDER                    0\n",
              "REG_REGION_NOT_LIVE_REGION     0\n",
              "REG_REGION_NOT_WORK_REGION     0\n",
              "LIVE_CITY_NOT_WORK_CITY        0\n",
              "LIVE_REGION_NOT_WORK_REGION    0\n",
              "REG_CITY_NOT_LIVE_CITY         0\n",
              "REG_CITY_NOT_WORK_CITY         0\n",
              "NAME_FAMILY_STATUS             0\n",
              "NAME_INCOME_TYPE               0\n",
              "CNT_CHILDREN                   0\n",
              "ELEVATORS_AVG                  0\n",
              "ENTRANCES_AVG                  0\n",
              "REGION_POPULATION_RELATIVE     0\n",
              "AMT_INCOME_TOTAL               0\n",
              "AMT_GOODS_PRICE                0\n",
              "CNT_FAM_MEMBERS                0\n",
              "FLAG_CONT_MOBILE               0\n",
              "NAME_TYPE_SUITE                0\n",
              "NAME_HOUSING_TYPE              0\n",
              "OCCUPATION_TYPE                0\n",
              "NAME_CONTRACT_TYPE             0\n",
              "OWN_CAR_AGE                    0\n",
              "dtype: int64"
            ]
          },
          "metadata": {
            "tags": []
          },
          "execution_count": 36
        }
      ]
    },
    {
      "cell_type": "code",
      "metadata": {
        "id": "AN6_W1UzKQqY",
        "colab_type": "code",
        "colab": {
          "base_uri": "https://localhost:8080/",
          "height": 34
        },
        "outputId": "40058729-e517-4ddd-80cb-6b9e423806c7"
      },
      "source": [
        "from sklearn import svm\n",
        "clf = svm.SVC(kernel='rbf',gamma='auto',random_state=0)\n",
        "clf.fit(X,y) \n",
        "\n",
        "ypredict=clf.predict(X2)\n",
        "print(ypredict[:20])"
      ],
      "execution_count": 37,
      "outputs": [
        {
          "output_type": "stream",
          "text": [
            "[0 0 0 0 0 0 0 0 0 0 0 0 0 0 0 0 0 0 0 0]\n"
          ],
          "name": "stdout"
        }
      ]
    },
    {
      "cell_type": "code",
      "metadata": {
        "id": "j3c42cpOKmoX",
        "colab_type": "code",
        "colab": {
          "base_uri": "https://localhost:8080/",
          "height": 68
        },
        "outputId": "23a6204c-7da1-434b-def6-00f09cdc7bd7"
      },
      "source": [
        "submission=pd.DataFrame({'SK_ID_CURR':df2['SK_ID_CURR'],'TARGET':ypredict})\n",
        "submission.isnull().sum()"
      ],
      "execution_count": 38,
      "outputs": [
        {
          "output_type": "execute_result",
          "data": {
            "text/plain": [
              "SK_ID_CURR    0\n",
              "TARGET        0\n",
              "dtype: int64"
            ]
          },
          "metadata": {
            "tags": []
          },
          "execution_count": 38
        }
      ]
    },
    {
      "cell_type": "code",
      "metadata": {
        "id": "-702RrjgSd_0",
        "colab_type": "code",
        "colab": {
          "base_uri": "https://localhost:8080/",
          "height": 34
        },
        "outputId": "7649a2f1-4b1e-44b9-a15d-f13e4919d8d2"
      },
      "source": [
        "filename = 'House Price5.csv'\n",
        "\n",
        "submission.to_csv(filename,index=False)\n",
        "\n",
        "print('Saved file: ' + filename)"
      ],
      "execution_count": 39,
      "outputs": [
        {
          "output_type": "stream",
          "text": [
            "Saved file: House Price5.csv\n"
          ],
          "name": "stdout"
        }
      ]
    },
    {
      "cell_type": "code",
      "metadata": {
        "id": "bTkZqJgeapap",
        "colab_type": "code",
        "colab": {}
      },
      "source": [
        ""
      ],
      "execution_count": 0,
      "outputs": []
    }
  ]
}